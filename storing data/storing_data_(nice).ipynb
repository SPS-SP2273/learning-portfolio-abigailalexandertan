{
 "cells": [
  {
   "cell_type": "markdown",
   "id": "123456",
   "metadata": {},
   "source": [
    "<div style=\"text-align:left;font-size:2em\"><span style=\"font-weight:bolder;font-size:1.25em\">SP2273 | Learning Portfolio</span><br><br><span style=\"font-weight:bold;color:darkred\">Storing Data (Nice)</span></div>"
   ]
  },
  {
   "cell_type": "markdown",
   "id": "bc53dd7e",
   "metadata": {},
   "source": [
    "## 1 Classes"
   ]
  },
  {
   "cell_type": "markdown",
   "id": "5a32eb9f",
   "metadata": {},
   "source": [
    "### 1.1 A grave injustice"
   ]
  },
  {
   "cell_type": "markdown",
   "id": "26153afe",
   "metadata": {},
   "source": [
    "Classes support Object-oriented programming (OOP).\n",
    "\n",
    "**Object-oriented programming (OOP)**\n",
    "- Allows you to write better, reusable solutions.\n",
    "- Reduces complexity of the solution because we have reusable code.\n",
    "- Thinking in terms of objects. \n",
    "\n",
    "Class is different from object. "
   ]
  },
  {
   "cell_type": "markdown",
   "id": "3d649112",
   "metadata": {},
   "source": [
    "### 1.2 A particle class"
   ]
  },
  {
   "cell_type": "code",
   "execution_count": 2,
   "id": "2485269d",
   "metadata": {},
   "outputs": [],
   "source": [
    "class Particle1D:\n",
    "    mass=None\n",
    "    position=None\n",
    "    radius=None\n",
    "    \n",
    "\n",
    "particle_0=Particle1D()        # Create a new particle\n",
    "particle_0.mass=10             # Set mass for particle 0 \n",
    "particle_0.position=.5         # Set position of particle 0\n",
    "particle_0.radius=.01          # Set the radius of particle 0\n",
    "\n",
    "particle_1=Particle1D()        # Create another particle\n",
    "particle_1.mass=20             # Set mass for particle 1 \n",
    "particle_1.position=.1         # Set position of particle 1\n",
    "particle_1.radius=.01          # Set the radius of particle 1\n",
    "\n",
    "# particle_0 and particle_1 are **instances** of the class Particle1D.\n",
    "# particle_0 and particle_1 are also called objects of Particle1D."
   ]
  },
  {
   "cell_type": "code",
   "execution_count": 3,
   "id": "4351543e",
   "metadata": {},
   "outputs": [
    {
     "name": "stdout",
     "output_type": "stream",
     "text": [
      "Particle 0 has mass 10 and is at position 0.5.\n"
     ]
    }
   ],
   "source": [
    "print(f'Particle 0 has mass {particle_0.mass} and is at position {particle_0.position}.')"
   ]
  },
  {
   "cell_type": "code",
   "execution_count": 4,
   "id": "b9ccb08f",
   "metadata": {},
   "outputs": [
    {
     "name": "stdout",
     "output_type": "stream",
     "text": [
      "Particle 1 has mass 20 and is at position 0.1.\n"
     ]
    }
   ],
   "source": [
    "print(f'Particle 1 has mass {particle_1.mass} and is at position {particle_1.position}.')"
   ]
  },
  {
   "cell_type": "markdown",
   "id": "2b3ffedd",
   "metadata": {},
   "source": [
    "### 1.3 Class vs Object variables"
   ]
  },
  {
   "cell_type": "code",
   "execution_count": 14,
   "id": "ac1e3380",
   "metadata": {},
   "outputs": [],
   "source": [
    "Particle1D.mass = 99           # Set the class variable mass\n",
    "Particle1D.radius = .01        # Set the class variable radius\n",
    "\n",
    "particle_0=Particle1D()        # Create a new particle\n",
    "particle_0.position=.5         # Set position of particle 0\n",
    "                               # This is the position variable\n",
    "                               # of object 0\n",
    "\n",
    "particle_1=Particle1D()        # Create another particle\n",
    "particle_1.position=.1         # Set position of particle 1\n",
    "                               # This is the position variable\n",
    "                               # of object 1"
   ]
  },
  {
   "cell_type": "code",
   "execution_count": 6,
   "id": "15ef6328",
   "metadata": {},
   "outputs": [
    {
     "name": "stdout",
     "output_type": "stream",
     "text": [
      "Particle 0 has mass 99 and is at position 0.5.\n"
     ]
    }
   ],
   "source": [
    "print(f'Particle 0 has mass {particle_0.mass} and is at position {particle_0.position}.')"
   ]
  },
  {
   "cell_type": "code",
   "execution_count": 7,
   "id": "6449bb9e",
   "metadata": {},
   "outputs": [
    {
     "name": "stdout",
     "output_type": "stream",
     "text": [
      "Particle 1 has mass 99 and is at position 0.1.\n"
     ]
    }
   ],
   "source": [
    "print(f'Particle 1 has mass {particle_1.mass} and is at position {particle_1.position}.')"
   ]
  },
  {
   "cell_type": "markdown",
   "id": "f09844e4",
   "metadata": {},
   "source": [
    "##### Class variable vs Object variables:\n",
    "- To access class variable, use . with class name.\n",
    "- To access object variable, use . with the object."
   ]
  },
  {
   "cell_type": "markdown",
   "id": "88e75432",
   "metadata": {},
   "source": [
    "### 1.4 Making it more scalable\n",
    "- This is to expand a simulation to a more significant number of particles."
   ]
  },
  {
   "cell_type": "code",
   "execution_count": 8,
   "id": "19068744",
   "metadata": {},
   "outputs": [],
   "source": [
    "# Make all the particles identical\n",
    "Particle1D.mass=99\n",
    "Particle1D.radius=.01\n",
    "\n",
    "# Create a list of particles\n",
    "all_particles=[Particle1D()]\n",
    "all_particles+=[Particle1D()]\n",
    "all_particles+=[Particle1D()]\n",
    "\n",
    "# Initialise with a random position\n",
    "i = 0\n",
    "all_particles[i].position=np.random.rand()\n",
    "\n",
    "i += 1\n",
    "all_particles[i].position=np.random.rand()\n",
    "\n",
    "i += 1\n",
    "all_particles[i].position=np.random.rand()"
   ]
  },
  {
   "cell_type": "code",
   "execution_count": 9,
   "id": "a9e94642",
   "metadata": {},
   "outputs": [
    {
     "name": "stdout",
     "output_type": "stream",
     "text": [
      "Particle 0 has mass 99 and is at position 0.01640280998410415.\n"
     ]
    }
   ],
   "source": [
    "i = 0\n",
    "print(f'Particle {i} has mass {all_particles[i].mass} and is at position {all_particles[i].position}.')"
   ]
  },
  {
   "cell_type": "code",
   "execution_count": 10,
   "id": "8be4521f",
   "metadata": {},
   "outputs": [
    {
     "name": "stdout",
     "output_type": "stream",
     "text": [
      "Particle 1 has mass 99 and is at position 0.7431706718758816.\n"
     ]
    }
   ],
   "source": [
    "i += 1\n",
    "print(f'Particle {i} has mass {all_particles[i].mass} and is at position {all_particles[i].position}.')"
   ]
  },
  {
   "cell_type": "code",
   "execution_count": 11,
   "id": "d84faaf4",
   "metadata": {},
   "outputs": [
    {
     "name": "stdout",
     "output_type": "stream",
     "text": [
      "Particle 2 has mass 99 and is at position 0.5319002567381376.\n"
     ]
    }
   ],
   "source": [
    "i += 1\n",
    "print(f'Particle {i} has mass {all_particles[i].mass} and is at position {all_particles[i].position}.')"
   ]
  }
 ],
 "metadata": {
  "kernelspec": {
   "display_name": "Python 3 (ipykernel)",
   "language": "python",
   "name": "python3"
  },
  "language_info": {
   "codemirror_mode": {
    "name": "ipython",
    "version": 3
   },
   "file_extension": ".py",
   "mimetype": "text/x-python",
   "name": "python",
   "nbconvert_exporter": "python",
   "pygments_lexer": "ipython3",
   "version": "3.10.8"
  },
  "toc": {
   "base_numbering": 1,
   "nav_menu": {},
   "number_sections": true,
   "sideBar": true,
   "skip_h1_title": false,
   "title_cell": "Table of Contents",
   "title_sidebar": "Contents",
   "toc_cell": false,
   "toc_position": {},
   "toc_section_display": true,
   "toc_window_display": false
  },
  "varInspector": {
   "cols": {
    "lenName": 16,
    "lenType": 16,
    "lenVar": 40
   },
   "kernels_config": {
    "python": {
     "delete_cmd_postfix": "",
     "delete_cmd_prefix": "del ",
     "library": "var_list.py",
     "varRefreshCmd": "print(var_dic_list())"
    },
    "r": {
     "delete_cmd_postfix": ") ",
     "delete_cmd_prefix": "rm(",
     "library": "var_list.r",
     "varRefreshCmd": "cat(var_dic_list()) "
    }
   },
   "types_to_exclude": [
    "module",
    "function",
    "builtin_function_or_method",
    "instance",
    "_Feature"
   ],
   "window_display": false
  },
  "vscode": {
   "interpreter": {
    "hash": "31f2aee4e71d21fbe5cf8b01ff0e069b9275f58929596ceb00d14d90e3e16cd6"
   }
  }
 },
 "nbformat": 4,
 "nbformat_minor": 5
}
