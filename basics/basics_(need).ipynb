{
 "cells": [
  {
   "cell_type": "markdown",
   "id": "123456",
   "metadata": {},
   "source": [
    "<div style=\"text-align:left;font-size:2em\"><span style=\"font-weight:bolder;font-size:1.25em\">SP2273 | Learning Portfolio</span><br><br><span style=\"font-weight:bold;color:darkred\">Basics (Need)</span></div>"
   ]
  },
  {
   "cell_type": "markdown",
   "id": "5544da19",
   "metadata": {},
   "source": [
    "## 1 Some Python Basics"
   ]
  },
  {
   "cell_type": "markdown",
   "id": "3f378b31",
   "metadata": {},
   "source": [
    "### 1.1 Functions"
   ]
  },
  {
   "cell_type": "code",
   "execution_count": 7,
   "id": "f8a2e0f9",
   "metadata": {},
   "outputs": [
    {
     "name": "stdout",
     "output_type": "stream",
     "text": [
      "Hello world!\n"
     ]
    }
   ],
   "source": [
    "print ('Hello world!')\n"
   ]
  },
  {
   "cell_type": "markdown",
   "id": "d5337072",
   "metadata": {},
   "source": [
    "##### Notes:\n",
    "- A function is something that executes a specific task.\n",
    "- A function may or may not accept arguments. \"Hello world\" is an argument. \n",
    "- We can define our own functions. "
   ]
  },
  {
   "cell_type": "markdown",
   "id": "176cfb6d",
   "metadata": {},
   "source": [
    "### 1.2 Python is interpreted"
   ]
  },
  {
   "cell_type": "code",
   "execution_count": 8,
   "id": "9117f784",
   "metadata": {},
   "outputs": [
    {
     "name": "stdout",
     "output_type": "stream",
     "text": [
      "Hello World\n",
      "Hello World again\n"
     ]
    }
   ],
   "source": [
    "print('Hello World')\n",
    "print('Hello World again')"
   ]
  },
  {
   "cell_type": "markdown",
   "id": "ec6bc9d2",
   "metadata": {},
   "source": [
    "### 1.3 Python is sensitive."
   ]
  },
  {
   "cell_type": "code",
   "execution_count": 11,
   "id": "5b517b7f",
   "metadata": {},
   "outputs": [
    {
     "name": "stdout",
     "output_type": "stream",
     "text": [
      "Hello World\n"
     ]
    },
    {
     "ename": "NameError",
     "evalue": "name 'Print' is not defined",
     "output_type": "error",
     "traceback": [
      "\u001b[0;31m---------------------------------------------------------------------------\u001b[0m",
      "\u001b[0;31mNameError\u001b[0m                                 Traceback (most recent call last)",
      "Cell \u001b[0;32mIn[11], line 2\u001b[0m\n\u001b[1;32m      1\u001b[0m \u001b[38;5;28mprint\u001b[39m(\u001b[38;5;124m'\u001b[39m\u001b[38;5;124mHello World\u001b[39m\u001b[38;5;124m'\u001b[39m)\n\u001b[0;32m----> 2\u001b[0m \u001b[43mPrint\u001b[49m(\u001b[38;5;124m'\u001b[39m\u001b[38;5;124mHello World\u001b[39m\u001b[38;5;124m'\u001b[39m)\n",
      "\u001b[0;31mNameError\u001b[0m: name 'Print' is not defined"
     ]
    }
   ],
   "source": [
    "print('Hello World')\n",
    "Print('Hello World')"
   ]
  },
  {
   "cell_type": "markdown",
   "id": "658d8c5d",
   "metadata": {},
   "source": [
    "##### Notes:\n",
    "Python is case sensitive! Therefore:\n",
    "\n",
    "print('Hello world') $\\ne$ **P**rint('Hello world')"
   ]
  },
  {
   "cell_type": "markdown",
   "id": "4f167904",
   "metadata": {},
   "source": [
    "### 1.4 Comments"
   ]
  },
  {
   "cell_type": "code",
   "execution_count": 20,
   "id": "0b191cb5",
   "metadata": {},
   "outputs": [
    {
     "name": "stdout",
     "output_type": "stream",
     "text": [
      "Hello World\n",
      "One\n",
      "Three\n",
      "One\n",
      "Three\n"
     ]
    }
   ],
   "source": [
    "print('Hello World') # Printing \"Hello World\"\n",
    "\n",
    "# This is a comment\n",
    "print('One')\n",
    "# print('Two')\n",
    "print('Three')\n",
    "\n",
    "# This is a comment\n",
    "print('One')              # This is a comment.\n",
    "# print('Two')            # The interpreter ignores this line.\n",
    "print('Three')            # This is\n",
    "                          # also a way to\n",
    "                          # write comments"
   ]
  },
  {
   "cell_type": "markdown",
   "id": "38e24467",
   "metadata": {},
   "source": [
    "### 1.5 = is not the same as =="
   ]
  },
  {
   "cell_type": "code",
   "execution_count": 25,
   "id": "962a4805",
   "metadata": {},
   "outputs": [
    {
     "data": {
      "text/plain": [
       "True"
      ]
     },
     "execution_count": 25,
     "metadata": {},
     "output_type": "execute_result"
    }
   ],
   "source": [
    "name = 'Batman' # Make name carry 'Batman'\n",
    "\n",
    "name == 'Batman' # Tell me if name is equal to 'Batman'?\n",
    "                 # Answer: True or False"
   ]
  },
  {
   "cell_type": "markdown",
   "id": "7e7df35e",
   "metadata": {},
   "source": [
    "##### Notes:\n",
    "- = is not the same as ==\n",
    "- = assigns a value\n",
    "- == asks a question\n"
   ]
  },
  {
   "cell_type": "markdown",
   "id": "758d3236",
   "metadata": {},
   "source": [
    "### 1.6 Use if to make decisions"
   ]
  },
  {
   "cell_type": "code",
   "execution_count": 26,
   "id": "c17fb584",
   "metadata": {},
   "outputs": [
    {
     "name": "stdout",
     "output_type": "stream",
     "text": [
      "Hello Hero | Batman!\n"
     ]
    }
   ],
   "source": [
    "name = 'Batman'\n",
    "\n",
    "if name == 'Batman':\n",
    "    print('Hello Hero | Batman!')\n",
    "else:\n",
    "    print('Hello World!')"
   ]
  },
  {
   "cell_type": "markdown",
   "id": "2afe766b",
   "metadata": {},
   "source": [
    "##### Notes:\n",
    "- 'if' is used to make decisions within the programme. \n",
    "- Typically 'if' is used to test a condition. If the condition is true, print what? and if the condition is false, what **else** to print?\n",
    "- Use ':'"
   ]
  },
  {
   "cell_type": "markdown",
   "id": "3e7c04f3",
   "metadata": {},
   "source": [
    "### 1.7 Indentations (spaces) are sooo IMPORTANT!"
   ]
  },
  {
   "cell_type": "markdown",
   "id": "c107f2ae",
   "metadata": {},
   "source": [
    "This **will** work:"
   ]
  },
  {
   "cell_type": "code",
   "execution_count": 27,
   "id": "b2525152",
   "metadata": {},
   "outputs": [
    {
     "name": "stdout",
     "output_type": "stream",
     "text": [
      "10\n"
     ]
    }
   ],
   "source": [
    "x = 10\n",
    "print(x)"
   ]
  },
  {
   "cell_type": "markdown",
   "id": "940fbfad",
   "metadata": {},
   "source": [
    "This will **not** work:"
   ]
  },
  {
   "cell_type": "code",
   "execution_count": 28,
   "id": "91f82cd7",
   "metadata": {},
   "outputs": [
    {
     "ename": "IndentationError",
     "evalue": "unexpected indent (1537435392.py, line 2)",
     "output_type": "error",
     "traceback": [
      "\u001b[0;36m  Cell \u001b[0;32mIn[28], line 2\u001b[0;36m\u001b[0m\n\u001b[0;31m    print(x)\u001b[0m\n\u001b[0m    ^\u001b[0m\n\u001b[0;31mIndentationError\u001b[0m\u001b[0;31m:\u001b[0m unexpected indent\n"
     ]
    }
   ],
   "source": [
    "x = 10\n",
    " print(x)"
   ]
  },
  {
   "cell_type": "markdown",
   "id": "8addf494",
   "metadata": {},
   "source": [
    "##### Notes:\n",
    "- Spaces (indentations) cannot be used in Python. "
   ]
  },
  {
   "cell_type": "markdown",
   "id": "f7dce43d",
   "metadata": {},
   "source": [
    "### 1.8 ‘age’ is English, age is a variable."
   ]
  },
  {
   "cell_type": "code",
   "execution_count": 40,
   "id": "d7d0fed5",
   "metadata": {
    "scrolled": true
   },
   "outputs": [
    {
     "ename": "NameError",
     "evalue": "name 'age' is not defined",
     "output_type": "error",
     "traceback": [
      "\u001b[0;31m---------------------------------------------------------------------------\u001b[0m",
      "\u001b[0;31mNameError\u001b[0m                                 Traceback (most recent call last)",
      "Cell \u001b[0;32mIn[40], line 1\u001b[0m\n\u001b[0;32m----> 1\u001b[0m \u001b[38;5;28mprint\u001b[39m(\u001b[43mage\u001b[49m) \u001b[38;5;66;03m# Print the value of the variable age\u001b[39;00m\n\u001b[1;32m      3\u001b[0m \u001b[38;5;28mprint\u001b[39m(\u001b[38;5;124m\"\u001b[39m\u001b[38;5;124mage\u001b[39m\u001b[38;5;124m\"\u001b[39m) \u001b[38;5;66;03m# Print the English word 'age'\u001b[39;00m\n",
      "\u001b[0;31mNameError\u001b[0m: name 'age' is not defined"
     ]
    }
   ],
   "source": [
    "print(age) # Print the value of the variable age\n",
    "\n",
    "print(\"age\") # Print the English word 'age'"
   ]
  },
  {
   "cell_type": "markdown",
   "id": "a613261f",
   "metadata": {},
   "source": [
    "##### Notes:\n",
    "- The above does not work because the variable 'age' is not assigned a value. "
   ]
  },
  {
   "cell_type": "code",
   "execution_count": 42,
   "id": "b7205892",
   "metadata": {},
   "outputs": [
    {
     "ename": "NameError",
     "evalue": "name 'age' is not defined",
     "output_type": "error",
     "traceback": [
      "\u001b[0;31m---------------------------------------------------------------------------\u001b[0m",
      "\u001b[0;31mNameError\u001b[0m                                 Traceback (most recent call last)",
      "Cell \u001b[0;32mIn[42], line 2\u001b[0m\n\u001b[1;32m      1\u001b[0m \u001b[38;5;66;03m# age = 10\u001b[39;00m\n\u001b[0;32m----> 2\u001b[0m \u001b[38;5;28mprint\u001b[39m(\u001b[43mage\u001b[49m)\n",
      "\u001b[0;31mNameError\u001b[0m: name 'age' is not defined"
     ]
    }
   ],
   "source": [
    "# age = 10\n",
    "print(age)"
   ]
  },
  {
   "cell_type": "code",
   "execution_count": 43,
   "id": "ef5c9d28",
   "metadata": {},
   "outputs": [
    {
     "name": "stdout",
     "output_type": "stream",
     "text": [
      "You're twenty years old.\n"
     ]
    }
   ],
   "source": [
    "print(\"You're twenty years old.\")"
   ]
  },
  {
   "cell_type": "markdown",
   "id": "a1e70dd8",
   "metadata": {},
   "source": [
    "### 1.9 Escape sequences"
   ]
  },
  {
   "cell_type": "markdown",
   "id": "1fd05a0b",
   "metadata": {},
   "source": [
    "##### To create a Single quote\n",
    "- If \\ ' is used, don't need to use \" \" to quote anymore."
   ]
  },
  {
   "cell_type": "code",
   "execution_count": 44,
   "id": "b3bbe532",
   "metadata": {},
   "outputs": [
    {
     "name": "stdout",
     "output_type": "stream",
     "text": [
      "You're twenty years old.\n"
     ]
    }
   ],
   "source": [
    "print('You\\'re twenty years old.')"
   ]
  },
  {
   "cell_type": "markdown",
   "id": "0d1631d4",
   "metadata": {},
   "source": [
    "##### To create a Backslash\n",
    "- \\ \\"
   ]
  },
  {
   "cell_type": "code",
   "execution_count": 46,
   "id": "cd894e6f",
   "metadata": {},
   "outputs": [
    {
     "name": "stdout",
     "output_type": "stream",
     "text": [
      "A\\B\\C\n"
     ]
    }
   ],
   "source": [
    "print('A\\\\B\\\\C')"
   ]
  },
  {
   "cell_type": "markdown",
   "id": "e34678a9",
   "metadata": {},
   "source": [
    "##### To create a Newline\n",
    "- \\n"
   ]
  },
  {
   "cell_type": "code",
   "execution_count": 47,
   "id": "c2d8e17c",
   "metadata": {},
   "outputs": [
    {
     "name": "stdout",
     "output_type": "stream",
     "text": [
      "A\n",
      "B\n",
      "C\n"
     ]
    }
   ],
   "source": [
    "print('A\\nB\\nC')"
   ]
  },
  {
   "cell_type": "markdown",
   "id": "2e8d7b19",
   "metadata": {},
   "source": [
    "##### To create a Horizontal Tab\n",
    "- \\t"
   ]
  },
  {
   "cell_type": "code",
   "execution_count": 49,
   "id": "fde59d47",
   "metadata": {},
   "outputs": [
    {
     "name": "stdout",
     "output_type": "stream",
     "text": [
      "A\tB\tC\n"
     ]
    }
   ],
   "source": [
    "print('A\\tB\\tC')"
   ]
  },
  {
   "cell_type": "markdown",
   "id": "a0c6be9f",
   "metadata": {},
   "source": [
    "### 1.10 Brackets"
   ]
  },
  {
   "cell_type": "code",
   "execution_count": 50,
   "id": "0aa41478",
   "metadata": {},
   "outputs": [
    {
     "name": "stdout",
     "output_type": "stream",
     "text": [
      "Hello!\n"
     ]
    }
   ],
   "source": [
    "print('Hello!') # In functions"
   ]
  },
  {
   "cell_type": "code",
   "execution_count": 51,
   "id": "19494c2c",
   "metadata": {},
   "outputs": [
    {
     "data": {
      "text/plain": [
       "15"
      ]
     },
     "execution_count": 51,
     "metadata": {},
     "output_type": "execute_result"
    }
   ],
   "source": [
    "(1 + 2) * 5 # For math"
   ]
  },
  {
   "cell_type": "code",
   "execution_count": 54,
   "id": "4d0b5870",
   "metadata": {},
   "outputs": [],
   "source": [
    "py_list = [1, 2, 3, 4, 5] # To make a 1D list"
   ]
  },
  {
   "cell_type": "code",
   "execution_count": 57,
   "id": "aa062180",
   "metadata": {},
   "outputs": [],
   "source": [
    "py_list_2 = [[1, \"A\"], # To make a 2D list\n",
    "            [2, \"B\"],\n",
    "            [3, \"C\"],\n",
    "            [4, \"D\"],\n",
    "            [5, \"E\"]]"
   ]
  },
  {
   "cell_type": "code",
   "execution_count": 59,
   "id": "1d6ec001",
   "metadata": {},
   "outputs": [
    {
     "name": "stdout",
     "output_type": "stream",
     "text": [
      "Bruce Wayne\n"
     ]
    }
   ],
   "source": [
    "personal_info = {\n",
    "    'Names': 'Batman',\n",
    "    'Real Name': 'Bruce Wayne',\n",
    "    'Age': 55,\n",
    "    'Affiliation': 'Justice League',\n",
    "    'Universe': 'DC'\n",
    "}\n",
    "\n",
    "print(personal_info['Real Name'])"
   ]
  },
  {
   "cell_type": "markdown",
   "id": "0434f4c9",
   "metadata": {},
   "source": [
    "##### Notes:\n",
    "- ( ) can be used to indicate functions.\n",
    "- ( ) can be used for math.\n",
    "- [  ] can be used to make lists. \n",
    "- { } is used to store data that uses a key-to identify a value. This is called a dictionary."
   ]
  },
  {
   "cell_type": "markdown",
   "id": "03ab3f7d",
   "metadata": {},
   "source": [
    "## 2 Giving Python superpowers"
   ]
  },
  {
   "cell_type": "markdown",
   "id": "15d179ad",
   "metadata": {},
   "source": [
    "### 2.1 Packages"
   ]
  },
  {
   "cell_type": "code",
   "execution_count": 1,
   "id": "40fc91c9",
   "metadata": {},
   "outputs": [
    {
     "data": {
      "text/plain": [
       "40.5"
      ]
     },
     "execution_count": 1,
     "metadata": {},
     "output_type": "execute_result"
    }
   ],
   "source": [
    "1 * ((2 - 3) + 4) ** 5 / 6"
   ]
  },
  {
   "cell_type": "code",
   "execution_count": 3,
   "id": "c514ea9e",
   "metadata": {},
   "outputs": [
    {
     "ename": "NameError",
     "evalue": "name 'sqrt' is not defined",
     "output_type": "error",
     "traceback": [
      "\u001b[0;31m---------------------------------------------------------------------------\u001b[0m",
      "\u001b[0;31mNameError\u001b[0m                                 Traceback (most recent call last)",
      "Cell \u001b[0;32mIn[3], line 1\u001b[0m\n\u001b[0;32m----> 1\u001b[0m \u001b[43msqrt\u001b[49m(\u001b[38;5;241m4\u001b[39m) \u001b[38;5;66;03m# does not work because basic Python is limited\u001b[39;00m\n",
      "\u001b[0;31mNameError\u001b[0m: name 'sqrt' is not defined"
     ]
    }
   ],
   "source": [
    "sqrt(4) # does not work because basic Python is limited"
   ]
  },
  {
   "cell_type": "code",
   "execution_count": 17,
   "id": "0e3ec94c",
   "metadata": {},
   "outputs": [],
   "source": [
    "import math         # Adding(importing) the functions\n",
    "                    # of the 'math' package    "
   ]
  },
  {
   "cell_type": "code",
   "execution_count": 18,
   "id": "3b8446e2",
   "metadata": {},
   "outputs": [
    {
     "data": {
      "text/plain": [
       "2.0"
      ]
     },
     "execution_count": 18,
     "metadata": {},
     "output_type": "execute_result"
    }
   ],
   "source": [
    "math.sqrt(4)"
   ]
  },
  {
   "cell_type": "code",
   "execution_count": 20,
   "id": "9e1aea72",
   "metadata": {},
   "outputs": [],
   "source": [
    "import numpy as np    # Importing Numpy and giving it an alias np\n",
    "                      # because I am lazy"
   ]
  },
  {
   "cell_type": "code",
   "execution_count": 21,
   "id": "e177fdae",
   "metadata": {},
   "outputs": [
    {
     "data": {
      "text/plain": [
       "2.0"
      ]
     },
     "execution_count": 21,
     "metadata": {},
     "output_type": "execute_result"
    }
   ],
   "source": [
    "np.sqrt(4)"
   ]
  },
  {
   "cell_type": "code",
   "execution_count": 22,
   "id": "82d83be0",
   "metadata": {},
   "outputs": [
    {
     "data": {
      "text/plain": [
       "array([2., 3., 4.])"
      ]
     },
     "execution_count": 22,
     "metadata": {},
     "output_type": "execute_result"
    }
   ],
   "source": [
    "np.sqrt([4, 9, 16])"
   ]
  },
  {
   "cell_type": "markdown",
   "id": "0d518093",
   "metadata": {},
   "source": [
    "### 2.2 The dot (.)"
   ]
  },
  {
   "cell_type": "code",
   "execution_count": 23,
   "id": "d24f5309",
   "metadata": {},
   "outputs": [
    {
     "data": {
      "text/plain": [
       "2.0"
      ]
     },
     "execution_count": 23,
     "metadata": {},
     "output_type": "execute_result"
    }
   ],
   "source": [
    "math. sqrt (4)\n",
    "np. sqrt (4)"
   ]
  },
  {
   "cell_type": "code",
   "execution_count": 24,
   "id": "72b85026",
   "metadata": {},
   "outputs": [
    {
     "data": {
      "text/plain": [
       "['I', 'am', 'Batman']"
      ]
     },
     "execution_count": 24,
     "metadata": {},
     "output_type": "execute_result"
    }
   ],
   "source": [
    "\"I am Batman\".split()"
   ]
  },
  {
   "cell_type": "code",
   "execution_count": 25,
   "id": "7e8dd66d",
   "metadata": {},
   "outputs": [
    {
     "ename": "SyntaxError",
     "evalue": "invalid decimal literal (3897031440.py, line 1)",
     "output_type": "error",
     "traceback": [
      "\u001b[0;36m  Cell \u001b[0;32mIn[25], line 1\u001b[0;36m\u001b[0m\n\u001b[0;31m    1234.split()\u001b[0m\n\u001b[0m        ^\u001b[0m\n\u001b[0;31mSyntaxError\u001b[0m\u001b[0;31m:\u001b[0m invalid decimal literal\n"
     ]
    }
   ],
   "source": [
    "1234.split()"
   ]
  },
  {
   "cell_type": "markdown",
   "id": "76c66db8",
   "metadata": {},
   "source": [
    "##### Notes:\n",
    "- The dot indicates ownership, and what it can access depends on the context. "
   ]
  },
  {
   "cell_type": "markdown",
   "id": "31e9e766",
   "metadata": {},
   "source": [
    "## Exercise 1 :  Total recall?"
   ]
  },
  {
   "cell_type": "markdown",
   "id": "5e42ccfe",
   "metadata": {},
   "source": [
    "1. print()\n",
    "2. *Print(hello world) will not work because Python is case-sensi*\n",
    "2. To indicate comments, use #\n",
    "3. Name = Batman # name is equals to Batman\n",
    "4. Name == Batman # asks if name equals to Batman\n",
    "5. Name = 'Batman' \n",
    "\n",
    "if Name = 'Batman':\n",
    "\n",
    "print('yes')\n",
    "\n",
    "else:\n",
    "\n",
    "print('no')\n",
    "\n",
    "6. *Indentations cannot be included*\n",
    "\n",
    "7. *print(age) # Prints value of the variable age*\n",
    "\n",
    "8. *print(\"age\") # Prints the English word 'age'*\n",
    "\n",
    "9. *Escape sequences are special characters to indicate different things.*\n",
    "\n",
    "10. *Brackets can be used to indicate math, call to function, list data and store data.*\n",
    "6. Download packages to give Python superpowers"
   ]
  },
  {
   "cell_type": "markdown",
   "id": "f007daa8",
   "metadata": {},
   "source": [
    "## Exercise 2 :  Debug me"
   ]
  },
  {
   "cell_type": "code",
   "execution_count": 32,
   "id": "7c2f1ae7",
   "metadata": {},
   "outputs": [
    {
     "name": "stdout",
     "output_type": "stream",
     "text": [
      "3 4 5.0\n"
     ]
    }
   ],
   "source": [
    "x = 3\n",
    "y = 4\n",
    "z = math.sqrt(x**2 + y**2)\n",
    "print(x, y, z)\n",
    "        "
   ]
  },
  {
   "cell_type": "markdown",
   "id": "d504ffe1",
   "metadata": {},
   "source": [
    "## Exercise 3 :  In your own words"
   ]
  },
  {
   "cell_type": "markdown",
   "id": "72c91d41",
   "metadata": {},
   "source": [
    "| #  | Term         | Description                                                                                  |\n",
    "|----|--------------|----------------------------------------------------------------------------------------------|\n",
    "| 1. | Function     | Something that executes a single task.                                                       |\n",
    "| 2. | Arguments    | A function may or may not accept an argument.                                                |\n",
    "| 3. | Comments     | Using # indicates a comment, which is not recognised by Python.                              |\n",
    "| 4. | Indentations | Spaces or tabs... don't have indentations!!!                                                 |\n",
    "| 5. | Packages     | Useful to download in order to have different functions.                                     |\n",
    "| 6. | .            | Indicates ownership, math. sqrt (4) means that the function sqrt (4) belongs to math module. |"
   ]
  },
  {
   "cell_type": "markdown",
   "id": "e8bd10c4",
   "metadata": {},
   "source": [
    "## Exercise 4 :  More than one way to divide"
   ]
  },
  {
   "cell_type": "code",
   "execution_count": 33,
   "id": "e65f8f5d",
   "metadata": {},
   "outputs": [
    {
     "data": {
      "text/plain": [
       "2.5"
      ]
     },
     "execution_count": 33,
     "metadata": {},
     "output_type": "execute_result"
    }
   ],
   "source": [
    "5/2           # Divides 5 by 2."
   ]
  },
  {
   "cell_type": "code",
   "execution_count": 36,
   "id": "0d4a3938",
   "metadata": {},
   "outputs": [
    {
     "data": {
      "text/plain": [
       "2"
      ]
     },
     "execution_count": 36,
     "metadata": {},
     "output_type": "execute_result"
    }
   ],
   "source": [
    "5//2          # Divides 5 by 2, then round the result down to the nearest whole number."
   ]
  },
  {
   "cell_type": "code",
   "execution_count": 39,
   "id": "7b654c7a",
   "metadata": {},
   "outputs": [
    {
     "data": {
      "text/plain": [
       "1"
      ]
     },
     "execution_count": 39,
     "metadata": {},
     "output_type": "execute_result"
    }
   ],
   "source": [
    "5%2           # Divides 5 by 2, but the answer is the remainder (AKA modulus)."
   ]
  }
 ],
 "metadata": {
  "kernelspec": {
   "display_name": "Python 3 (ipykernel)",
   "language": "python",
   "name": "python3"
  },
  "language_info": {
   "codemirror_mode": {
    "name": "ipython",
    "version": 3
   },
   "file_extension": ".py",
   "mimetype": "text/x-python",
   "name": "python",
   "nbconvert_exporter": "python",
   "pygments_lexer": "ipython3",
   "version": "3.10.8"
  },
  "toc": {
   "base_numbering": 1,
   "nav_menu": {},
   "number_sections": true,
   "sideBar": true,
   "skip_h1_title": false,
   "title_cell": "Table of Contents",
   "title_sidebar": "Contents",
   "toc_cell": false,
   "toc_position": {},
   "toc_section_display": true,
   "toc_window_display": false
  },
  "varInspector": {
   "cols": {
    "lenName": 16,
    "lenType": 16,
    "lenVar": 40
   },
   "kernels_config": {
    "python": {
     "delete_cmd_postfix": "",
     "delete_cmd_prefix": "del ",
     "library": "var_list.py",
     "varRefreshCmd": "print(var_dic_list())"
    },
    "r": {
     "delete_cmd_postfix": ") ",
     "delete_cmd_prefix": "rm(",
     "library": "var_list.r",
     "varRefreshCmd": "cat(var_dic_list()) "
    }
   },
   "types_to_exclude": [
    "module",
    "function",
    "builtin_function_or_method",
    "instance",
    "_Feature"
   ],
   "window_display": false
  },
  "vscode": {
   "interpreter": {
    "hash": "31f2aee4e71d21fbe5cf8b01ff0e069b9275f58929596ceb00d14d90e3e16cd6"
   }
  }
 },
 "nbformat": 4,
 "nbformat_minor": 5
}
