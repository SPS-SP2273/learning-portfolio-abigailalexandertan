{
 "cells": [
  {
   "cell_type": "markdown",
   "id": "123456",
   "metadata": {},
   "source": [
    "<div style=\"text-align:left;font-size:2em\"><span style=\"font-weight:bolder;font-size:1.25em\">SP2273 | Learning Portfolio</span><br><br><span style=\"font-weight:bold;color:darkred\">Basics (Good)</span></div>"
   ]
  },
  {
   "cell_type": "markdown",
   "id": "c8f73c24",
   "metadata": {},
   "source": [
    "## 1 More Python Basics"
   ]
  },
  {
   "cell_type": "markdown",
   "id": "7f5da35e",
   "metadata": {},
   "source": [
    "### 1.1 Computers read = from Right to Left!"
   ]
  },
  {
   "cell_type": "code",
   "execution_count": 2,
   "id": "807caeb8",
   "metadata": {},
   "outputs": [],
   "source": [
    "x = 40 # This makes x has the value 40\n",
    "y = x + 2 # This means add 2 to x to get 42, then make y equal to 42."
   ]
  },
  {
   "cell_type": "code",
   "execution_count": 3,
   "id": "1835d1f3",
   "metadata": {},
   "outputs": [
    {
     "name": "stdout",
     "output_type": "stream",
     "text": [
      "52\n"
     ]
    }
   ],
   "source": [
    "# Therefore the following will work in programming:\n",
    "y = 50\n",
    "y = y + 2\n",
    "print(y)"
   ]
  },
  {
   "cell_type": "code",
   "execution_count": 4,
   "id": "f4532bc9",
   "metadata": {},
   "outputs": [
    {
     "name": "stdout",
     "output_type": "stream",
     "text": [
      "10\n",
      "10\n"
     ]
    }
   ],
   "source": [
    "# This also works:\n",
    "x = y = 10\n",
    "print(x)\n",
    "print(y)"
   ]
  },
  {
   "cell_type": "markdown",
   "id": "1294cb97",
   "metadata": {},
   "source": [
    "### 1.2 Shorter and cleaner"
   ]
  },
  {
   "cell_type": "markdown",
   "id": "f8cb2c1c",
   "metadata": {},
   "source": [
    "##### Notes:\n",
    "- Shorthand syntax makes code slightly neater."
   ]
  },
  {
   "cell_type": "code",
   "execution_count": 6,
   "id": "b7730c30",
   "metadata": {},
   "outputs": [],
   "source": [
    "y = 40\n",
    "y = y + 2"
   ]
  },
  {
   "cell_type": "markdown",
   "id": "d6d8c6e2",
   "metadata": {},
   "source": [
    "In the above, y = y + 2 can be replaced with y+=2"
   ]
  },
  {
   "cell_type": "code",
   "execution_count": 10,
   "id": "2ad0dcb7",
   "metadata": {},
   "outputs": [
    {
     "data": {
      "text/plain": [
       "42"
      ]
     },
     "execution_count": 10,
     "metadata": {},
     "output_type": "execute_result"
    }
   ],
   "source": [
    "y = 40\n",
    "y += 2 # Same as y = y + 2\n",
    "y"
   ]
  },
  {
   "cell_type": "markdown",
   "id": "9f57fcb5",
   "metadata": {},
   "source": [
    "##### Subtraction:"
   ]
  },
  {
   "cell_type": "code",
   "execution_count": 11,
   "id": "adbe6465",
   "metadata": {},
   "outputs": [
    {
     "data": {
      "text/plain": [
       "38"
      ]
     },
     "execution_count": 11,
     "metadata": {},
     "output_type": "execute_result"
    }
   ],
   "source": [
    "y = 40\n",
    "y -= 2 # Same as y = y - 2\n",
    "y"
   ]
  },
  {
   "cell_type": "markdown",
   "id": "42ae76b0",
   "metadata": {},
   "source": [
    "##### Division:"
   ]
  },
  {
   "cell_type": "code",
   "execution_count": 12,
   "id": "3beeeea8",
   "metadata": {},
   "outputs": [
    {
     "data": {
      "text/plain": [
       "20.0"
      ]
     },
     "execution_count": 12,
     "metadata": {},
     "output_type": "execute_result"
    }
   ],
   "source": [
    "y = 40\n",
    "y /= 2 # Same as y = y/2\n",
    "y"
   ]
  },
  {
   "cell_type": "markdown",
   "id": "30e5cf84",
   "metadata": {},
   "source": [
    "##### Multiplication:"
   ]
  },
  {
   "cell_type": "code",
   "execution_count": 13,
   "id": "15eae8e7",
   "metadata": {},
   "outputs": [
    {
     "data": {
      "text/plain": [
       "80"
      ]
     },
     "execution_count": 13,
     "metadata": {},
     "output_type": "execute_result"
    }
   ],
   "source": [
    "y = 40\n",
    "y *= 2 # Same as y = y*2\n",
    "y"
   ]
  },
  {
   "cell_type": "markdown",
   "id": "613bc0a2",
   "metadata": {},
   "source": [
    "### 1.3 Asking questions"
   ]
  },
  {
   "cell_type": "code",
   "execution_count": 17,
   "id": "1581a765",
   "metadata": {},
   "outputs": [
    {
     "data": {
      "text/plain": [
       "True"
      ]
     },
     "execution_count": 17,
     "metadata": {},
     "output_type": "execute_result"
    }
   ],
   "source": [
    "fruits = [\"apple\", \"banana\", \"pineapple\", \"jackfruit\"]\n",
    "vegetables = [\"celery\", \"potato\", \"broccoli\", \"kale\"]"
   ]
  },
  {
   "cell_type": "code",
   "execution_count": 27,
   "id": "88519057",
   "metadata": {},
   "outputs": [
    {
     "data": {
      "text/plain": [
       "True"
      ]
     },
     "execution_count": 27,
     "metadata": {},
     "output_type": "execute_result"
    }
   ],
   "source": [
    "\"apple\" in fruits\n"
   ]
  },
  {
   "cell_type": "code",
   "execution_count": 22,
   "id": "a44aa24a",
   "metadata": {},
   "outputs": [
    {
     "data": {
      "text/plain": [
       "False"
      ]
     },
     "execution_count": 22,
     "metadata": {},
     "output_type": "execute_result"
    }
   ],
   "source": [
    "\"peach\" in fruits\n"
   ]
  },
  {
   "cell_type": "code",
   "execution_count": 24,
   "id": "6ead6895",
   "metadata": {},
   "outputs": [
    {
     "data": {
      "text/plain": [
       "True"
      ]
     },
     "execution_count": 24,
     "metadata": {},
     "output_type": "execute_result"
    }
   ],
   "source": [
    "\"peach\" not in fruits\n"
   ]
  },
  {
   "cell_type": "code",
   "execution_count": 25,
   "id": "a5c34de7",
   "metadata": {},
   "outputs": [
    {
     "data": {
      "text/plain": [
       "True"
      ]
     },
     "execution_count": 25,
     "metadata": {},
     "output_type": "execute_result"
    }
   ],
   "source": [
    "(\"apple\" in fruits) and (\"celery\" in vegetables)\n"
   ]
  },
  {
   "cell_type": "code",
   "execution_count": 28,
   "id": "9be017d1",
   "metadata": {},
   "outputs": [
    {
     "data": {
      "text/plain": [
       "True"
      ]
     },
     "execution_count": 28,
     "metadata": {},
     "output_type": "execute_result"
    }
   ],
   "source": [
    "(\"apple\" in fruits) or (\"celery\" in vegetable)"
   ]
  },
  {
   "cell_type": "markdown",
   "id": "abd1d7df",
   "metadata": {},
   "source": [
    "| Question/Condition     | Math Symbol | Python Symbols |\n",
    "|------------------------|-------------|-------------|\n",
    "| Equals?                | =           | ==          |\n",
    "| Not equal?             | ≠           | !=          |\n",
    "| Less than?             | <           | <           |\n",
    "| Greater than?          | >           | >           |\n",
    "| Less than or equal?    | ≤           | <=          |\n",
    "| Greater than or equal? | ≥           | >=          |"
   ]
  },
  {
   "cell_type": "markdown",
   "id": "00d44e41",
   "metadata": {},
   "source": [
    "##### Notes:\n",
    "- Python only knows how to compare similar things. Therefore, 3 > 10 works but 3 > apple does not. But Python can compare 'apples' and 'oranges'. "
   ]
  },
  {
   "cell_type": "code",
   "execution_count": 29,
   "id": "13c65ad6",
   "metadata": {},
   "outputs": [
    {
     "data": {
      "text/plain": [
       "False"
      ]
     },
     "execution_count": 29,
     "metadata": {},
     "output_type": "execute_result"
    }
   ],
   "source": [
    "'apples' > 'oranges'"
   ]
  },
  {
   "cell_type": "code",
   "execution_count": 31,
   "id": "e831739f",
   "metadata": {},
   "outputs": [
    {
     "data": {
      "text/plain": [
       "True"
      ]
     },
     "execution_count": 31,
     "metadata": {},
     "output_type": "execute_result"
    }
   ],
   "source": [
    "(x > 5) and (x < 15)"
   ]
  },
  {
   "cell_type": "markdown",
   "id": "3eeea226",
   "metadata": {},
   "source": [
    "is the same as "
   ]
  },
  {
   "cell_type": "code",
   "execution_count": 32,
   "id": "04d6a40f",
   "metadata": {},
   "outputs": [
    {
     "data": {
      "text/plain": [
       "True"
      ]
     },
     "execution_count": 32,
     "metadata": {},
     "output_type": "execute_result"
    }
   ],
   "source": [
    "5 < x < 15"
   ]
  },
  {
   "cell_type": "markdown",
   "id": "8f6137e5",
   "metadata": {},
   "source": [
    "### 1.4 There is more to if"
   ]
  },
  {
   "cell_type": "code",
   "execution_count": 36,
   "id": "c1d92062",
   "metadata": {},
   "outputs": [
    {
     "name": "stdout",
     "output_type": "stream",
     "text": [
      "Hello Hero | Batman!\n"
     ]
    }
   ],
   "source": [
    "name = 'Batman'\n",
    "\n",
    "if name == 'Batman':\n",
    "    print('Hello Hero | Batman!')\n",
    "elif name == 'Robin':\n",
    "    print('Hello Sidekick | Robin!')\n",
    "else:\n",
    "    print('Hello World!')"
   ]
  },
  {
   "cell_type": "code",
   "execution_count": 37,
   "id": "86893b93",
   "metadata": {},
   "outputs": [
    {
     "name": "stdout",
     "output_type": "stream",
     "text": [
      "Hello Sidekick | Robin!\n"
     ]
    }
   ],
   "source": [
    "name = 'Robin'\n",
    "\n",
    "if name == 'Batman':\n",
    "    print('Hello Hero | Batman!')\n",
    "elif name == 'Robin':\n",
    "    print('Hello Sidekick | Robin!')\n",
    "else:\n",
    "    print('Hello World!')"
   ]
  },
  {
   "cell_type": "code",
   "execution_count": 38,
   "id": "0bdc64d6",
   "metadata": {},
   "outputs": [
    {
     "name": "stdout",
     "output_type": "stream",
     "text": [
      "Hello World!\n"
     ]
    }
   ],
   "source": [
    "name = '??'\n",
    "\n",
    "if name == 'Batman':\n",
    "    print('Hello Hero | Batman!')\n",
    "elif name == 'Robin':\n",
    "    print('Hello Sidekick | Robin!')\n",
    "else:\n",
    "    print('Hello World!')"
   ]
  },
  {
   "cell_type": "markdown",
   "id": "23b8fd75",
   "metadata": {},
   "source": [
    "### 1.5 Python stores information in different formats or types."
   ]
  },
  {
   "cell_type": "markdown",
   "id": "d92c9c29",
   "metadata": {},
   "source": [
    "##### Notes:\n",
    "- There are four ways to store the number 1.234. \n",
    "- The function type() is to check how the information is stored."
   ]
  },
  {
   "cell_type": "markdown",
   "id": "606b9fc1",
   "metadata": {},
   "source": [
    "**1) To store 1.234 as an integer (int):**"
   ]
  },
  {
   "cell_type": "code",
   "execution_count": 40,
   "id": "f4cc3e72",
   "metadata": {},
   "outputs": [
    {
     "name": "stdout",
     "output_type": "stream",
     "text": [
      "1 <class 'int'>\n"
     ]
    }
   ],
   "source": [
    "x = int(1.234)\n",
    "print(x, type(x))"
   ]
  },
  {
   "cell_type": "markdown",
   "id": "2a54340c",
   "metadata": {},
   "source": [
    "**2. To store 1.234 as an English word (str):**"
   ]
  },
  {
   "cell_type": "code",
   "execution_count": 41,
   "id": "60651dcf",
   "metadata": {},
   "outputs": [
    {
     "name": "stdout",
     "output_type": "stream",
     "text": [
      "1.234 <class 'str'>\n"
     ]
    }
   ],
   "source": [
    "x = str(1.234)\n",
    "print(x, type(x))"
   ]
  },
  {
   "cell_type": "markdown",
   "id": "1c04c55e",
   "metadata": {},
   "source": [
    "**3. To store 1.234 as a decimal number (float):**"
   ]
  },
  {
   "cell_type": "code",
   "execution_count": 42,
   "id": "04573b13",
   "metadata": {},
   "outputs": [
    {
     "name": "stdout",
     "output_type": "stream",
     "text": [
      "1.234 <class 'float'>\n"
     ]
    }
   ],
   "source": [
    "x = float(1.234)\n",
    "print(x, type(x))"
   ]
  },
  {
   "cell_type": "markdown",
   "id": "1656659f",
   "metadata": {},
   "source": [
    "**4) To store 1.234 as a complex number (complex).**\n",
    "- This will include an imaginary part of the number. "
   ]
  },
  {
   "cell_type": "code",
   "execution_count": 44,
   "id": "b2d72ca6",
   "metadata": {},
   "outputs": [
    {
     "name": "stdout",
     "output_type": "stream",
     "text": [
      "(1.234+0j) <class 'complex'>\n"
     ]
    }
   ],
   "source": [
    "x = complex(1.234)\n",
    "print(x, type(x))"
   ]
  },
  {
   "cell_type": "markdown",
   "id": "8fb5b549",
   "metadata": {},
   "source": [
    "##### Notes:\n",
    "- There are many other types of data.\n",
    "- We can force Python to change the type of variable:"
   ]
  },
  {
   "cell_type": "code",
   "execution_count": 45,
   "id": "7f3de205",
   "metadata": {},
   "outputs": [
    {
     "name": "stdout",
     "output_type": "stream",
     "text": [
      "1.234 <class 'str'>\n"
     ]
    }
   ],
   "source": [
    "x = '1.234'\n",
    "print(x, type(x))"
   ]
  },
  {
   "cell_type": "code",
   "execution_count": 46,
   "id": "7d3b4c21",
   "metadata": {},
   "outputs": [
    {
     "name": "stdout",
     "output_type": "stream",
     "text": [
      "1.234 <class 'float'>\n"
     ]
    }
   ],
   "source": [
    "x = float(x)\n",
    "print(x, type(x))"
   ]
  },
  {
   "cell_type": "markdown",
   "id": "3cd55e2e",
   "metadata": {},
   "source": [
    "This is referred to as **typecasting**, where we cast x into the type float. "
   ]
  },
  {
   "cell_type": "markdown",
   "id": "8a928c40",
   "metadata": {},
   "source": [
    "### 1.6 Combining English and variables"
   ]
  },
  {
   "cell_type": "code",
   "execution_count": 48,
   "id": "4d1f2d69",
   "metadata": {},
   "outputs": [
    {
     "name": "stdout",
     "output_type": "stream",
     "text": [
      "Hello Batman!\n"
     ]
    }
   ],
   "source": [
    "name = \"Batman\"\n",
    "print(f\"Hello {name}!\")"
   ]
  },
  {
   "cell_type": "code",
   "execution_count": 49,
   "id": "31102fca",
   "metadata": {},
   "outputs": [
    {
     "name": "stdout",
     "output_type": "stream",
     "text": [
      "Hello BATMAN!\n"
     ]
    }
   ],
   "source": [
    "name = \"Batman\"\n",
    "print(f\"Hello {name.upper()}!\")"
   ]
  },
  {
   "cell_type": "code",
   "execution_count": 50,
   "id": "0221354d",
   "metadata": {},
   "outputs": [
    {
     "name": "stdout",
     "output_type": "stream",
     "text": [
      "The value of 10 squared is 100!\n"
     ]
    }
   ],
   "source": [
    "x = 10\n",
    "print(f\"The value of {x} squared is {x**2}!\")"
   ]
  },
  {
   "cell_type": "markdown",
   "id": "f861fd44",
   "metadata": {},
   "source": [
    "##### Notes:\n",
    "- 'f' and '{}' is called **f-string** or **string interpolation**. \n",
    "- f-string can be used to do formatting a string or number:"
   ]
  },
  {
   "cell_type": "code",
   "execution_count": 53,
   "id": "db3e9a48",
   "metadata": {},
   "outputs": [
    {
     "name": "stdout",
     "output_type": "stream",
     "text": [
      "Bruce Wayne is Batman.\n"
     ]
    }
   ],
   "source": [
    "text = 'Bruce Wayne is Batman.'\n",
    "print(f'{text}')"
   ]
  },
  {
   "cell_type": "code",
   "execution_count": 56,
   "id": "975eac66",
   "metadata": {},
   "outputs": [
    {
     "name": "stdout",
     "output_type": "stream",
     "text": [
      "        Bruce Wayne is Batman.\n"
     ]
    }
   ],
   "source": [
    "print(f'{text:>30}') # A block of 30 characters; aligned right"
   ]
  },
  {
   "cell_type": "code",
   "execution_count": 57,
   "id": "a333c7ea",
   "metadata": {},
   "outputs": [
    {
     "name": "stdout",
     "output_type": "stream",
     "text": [
      "    Bruce Wayne is Batman.    \n"
     ]
    }
   ],
   "source": [
    "print(f'{text:^30}') # A block of 30 characters; aligned center"
   ]
  },
  {
   "cell_type": "code",
   "execution_count": 58,
   "id": "de642974",
   "metadata": {},
   "outputs": [
    {
     "name": "stdout",
     "output_type": "stream",
     "text": [
      "Bruce Wayne is Batman.        \n"
     ]
    }
   ],
   "source": [
    "print(f'{text:<30}') # A block of 30 characters; aligned left"
   ]
  },
  {
   "cell_type": "code",
   "execution_count": 64,
   "id": "070a5354",
   "metadata": {},
   "outputs": [
    {
     "name": "stdout",
     "output_type": "stream",
     "text": [
      "<class 'float'>\n"
     ]
    }
   ],
   "source": [
    "np.pi**3\n",
    "print(type (np.pi**3))"
   ]
  },
  {
   "cell_type": "code",
   "execution_count": 68,
   "id": "2909fdc6",
   "metadata": {},
   "outputs": [
    {
     "name": "stdout",
     "output_type": "stream",
     "text": [
      "The cube of pi to 6 decimal places is 31.0063\n"
     ]
    }
   ],
   "source": [
    "print(f'The cube of pi to 6 decimal places is {np.pi**3:.6g}')"
   ]
  },
  {
   "cell_type": "code",
   "execution_count": 75,
   "id": "db772a57",
   "metadata": {},
   "outputs": [
    {
     "name": "stdout",
     "output_type": "stream",
     "text": [
      "000009\n"
     ]
    }
   ],
   "source": [
    "print(f'{9:06d}')\n",
    "# This means you make 9 the subject, \n",
    "# then subject it to being an integer with 6 numbers in it. "
   ]
  },
  {
   "cell_type": "markdown",
   "id": "8876e739",
   "metadata": {},
   "source": [
    "##### Notes:\n",
    "- np = numpy package, a math programme thing\n",
    "- . is to show that the cube of pi belongs to numpy\n",
    "- pi**3 = cube of pi\n",
    "- .6 = 6 decimal places\n"
   ]
  },
  {
   "cell_type": "code",
   "execution_count": 78,
   "id": "916b2fa9",
   "metadata": {},
   "outputs": [
    {
     "name": "stdout",
     "output_type": "stream",
     "text": [
      "The cube of pi to 6 decimal places is 3.100628e+01\n"
     ]
    }
   ],
   "source": [
    "print(f'The cube of pi to 6 decimal places is {np.pi**3:.6e}')\n",
    "# e is used to tell the f-string to output the number \n",
    "# in scientific notation."
   ]
  },
  {
   "cell_type": "markdown",
   "id": "fb1b31c2",
   "metadata": {},
   "source": [
    "##### Structure of f-strings:\n",
    "\n",
    "- F-string formatting has the structure {X:0Y.ZW}, where X, Y, Z and W are:\n",
    "\n",
    "| Letter | Meaning |\n",
    "|---|---------------------------------------------------------------------------------------------------------|\n",
    "| W | Specifies the type of variable: f - float d - integer s - string g - ask Python to figure it out itself |\n",
    "| X | Variable to format (can be a number or a string)|                | > | Alignment Use <, >, ^ for Left, Right, and Center|\n",
    "| Y | Total number of characters |\n",
    "| Z | Number of decimal places |\n",
    "| 0 | Use 0's to pad the spaces |"
   ]
  },
  {
   "cell_type": "markdown",
   "id": "f35243fe",
   "metadata": {},
   "source": [
    "### 1.7 Python can be a prima-donna."
   ]
  },
  {
   "cell_type": "code",
   "execution_count": null,
   "id": "1b86843e",
   "metadata": {},
   "outputs": [],
   "source": [
    "\n",
    "# Your code here\n"
   ]
  },
  {
   "cell_type": "markdown",
   "id": "87c145ca",
   "metadata": {},
   "source": [
    "## 2 Best Practices for Scientific Computing"
   ]
  },
  {
   "cell_type": "markdown",
   "id": "53732aab",
   "metadata": {},
   "source": [
    "### 2.1 Some tips"
   ]
  },
  {
   "cell_type": "code",
   "execution_count": null,
   "id": "fbc74223",
   "metadata": {},
   "outputs": [],
   "source": [
    "\n",
    "# Your code here\n"
   ]
  },
  {
   "cell_type": "markdown",
   "id": "367ced76",
   "metadata": {},
   "source": [
    "### 2.2 Getting help."
   ]
  },
  {
   "cell_type": "code",
   "execution_count": null,
   "id": "256def11",
   "metadata": {},
   "outputs": [],
   "source": [
    "\n",
    "# Your code here\n"
   ]
  },
  {
   "cell_type": "markdown",
   "id": "0c1001f2",
   "metadata": {},
   "source": [
    "## Exercise 1 :  Bias for some heroes"
   ]
  },
  {
   "cell_type": "code",
   "execution_count": null,
   "id": "a5f02ebd",
   "metadata": {},
   "outputs": [],
   "source": [
    "\n",
    "\n",
    "\n",
    "# Your solution here\n",
    "\n",
    "\n"
   ]
  },
  {
   "cell_type": "markdown",
   "id": "d7659d2a",
   "metadata": {},
   "source": [
    "## Exercise 2 :  Bias for some heroes, continues"
   ]
  },
  {
   "cell_type": "code",
   "execution_count": null,
   "id": "db2de7f1",
   "metadata": {},
   "outputs": [],
   "source": [
    "\n",
    "\n",
    "\n",
    "# Your solution here\n",
    "\n",
    "\n"
   ]
  },
  {
   "cell_type": "markdown",
   "id": "13ffdc1e",
   "metadata": {},
   "source": [
    "## Exercise 3 :  Look for help to replace"
   ]
  },
  {
   "cell_type": "code",
   "execution_count": null,
   "id": "8472aacd",
   "metadata": {},
   "outputs": [],
   "source": [
    "\n",
    "\n",
    "\n",
    "# Your solution here\n",
    "\n",
    "\n"
   ]
  }
 ],
 "metadata": {
  "kernelspec": {
   "display_name": "Python 3 (ipykernel)",
   "language": "python",
   "name": "python3"
  },
  "language_info": {
   "codemirror_mode": {
    "name": "ipython",
    "version": 3
   },
   "file_extension": ".py",
   "mimetype": "text/x-python",
   "name": "python",
   "nbconvert_exporter": "python",
   "pygments_lexer": "ipython3",
   "version": "3.10.8"
  },
  "toc": {
   "base_numbering": 1,
   "nav_menu": {},
   "number_sections": true,
   "sideBar": true,
   "skip_h1_title": false,
   "title_cell": "Table of Contents",
   "title_sidebar": "Contents",
   "toc_cell": false,
   "toc_position": {},
   "toc_section_display": true,
   "toc_window_display": false
  },
  "varInspector": {
   "cols": {
    "lenName": 16,
    "lenType": 16,
    "lenVar": 40
   },
   "kernels_config": {
    "python": {
     "delete_cmd_postfix": "",
     "delete_cmd_prefix": "del ",
     "library": "var_list.py",
     "varRefreshCmd": "print(var_dic_list())"
    },
    "r": {
     "delete_cmd_postfix": ") ",
     "delete_cmd_prefix": "rm(",
     "library": "var_list.r",
     "varRefreshCmd": "cat(var_dic_list()) "
    }
   },
   "types_to_exclude": [
    "module",
    "function",
    "builtin_function_or_method",
    "instance",
    "_Feature"
   ],
   "window_display": false
  },
  "vscode": {
   "interpreter": {
    "hash": "31f2aee4e71d21fbe5cf8b01ff0e069b9275f58929596ceb00d14d90e3e16cd6"
   }
  }
 },
 "nbformat": 4,
 "nbformat_minor": 5
}
