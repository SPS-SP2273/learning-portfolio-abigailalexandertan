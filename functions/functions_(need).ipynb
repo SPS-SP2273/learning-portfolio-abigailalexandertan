{
 "cells": [
  {
   "cell_type": "markdown",
   "id": "123456",
   "metadata": {},
   "source": [
    "<div style=\"text-align:left;font-size:2em\"><span style=\"font-weight:bolder;font-size:1.25em\">SP2273 | Learning Portfolio</span><br><br><span style=\"font-weight:bold;color:darkred\">Functions (Need)</span></div>"
   ]
  },
  {
   "cell_type": "markdown",
   "id": "b501953b",
   "metadata": {},
   "source": [
    "## 1 User defined functions"
   ]
  },
  {
   "cell_type": "markdown",
   "id": "16230547",
   "metadata": {},
   "source": [
    "### 1.1 Named functions that return"
   ]
  },
  {
   "cell_type": "markdown",
   "id": "36f4212e",
   "metadata": {},
   "source": [
    "##### Notes:\n",
    "- print( ) is an internal function in python. We can make our own functions, either named or anonymous. "
   ]
  },
  {
   "cell_type": "code",
   "execution_count": 5,
   "id": "f33911fc",
   "metadata": {},
   "outputs": [],
   "source": [
    "def greeting(name):    # This is to define the function\n",
    "    if name == 'Batman':\n",
    "        return 'Hello Batman! So, nice to meet you!'\n",
    "    else:\n",
    "        return f'Hello {name}!'\n",
    "    \n",
    "# So the function's name is 'greeting'. \n",
    "# The single argument is 'name'.\n"
   ]
  },
  {
   "cell_type": "code",
   "execution_count": 6,
   "id": "febd1965",
   "metadata": {},
   "outputs": [
    {
     "name": "stdout",
     "output_type": "stream",
     "text": [
      "Hello Super Man!\n"
     ]
    }
   ],
   "source": [
    "greet=greeting(name='Super Man') \n",
    "print(greet)\n",
    "\n",
    "# Use this to pick up the returned value. "
   ]
  },
  {
   "cell_type": "code",
   "execution_count": 8,
   "id": "6b574cc4",
   "metadata": {},
   "outputs": [
    {
     "name": "stdout",
     "output_type": "stream",
     "text": [
      "Hello Super Man!\n"
     ]
    }
   ],
   "source": [
    "print(greeting(name='Super Man'))\n",
    "\n",
    "# Can also use this to pick up the returned value."
   ]
  },
  {
   "cell_type": "code",
   "execution_count": 10,
   "id": "71e768f2",
   "metadata": {},
   "outputs": [],
   "source": [
    "def basic_stats(numbers):\n",
    "    np_numbers=np.array(numbers)\n",
    "    return np_numbers.min(), np_numbers.max(), np_numbers.mean()\n",
    "\n",
    "list_min, list_max, list_mean = basic_stats([1, 2, 3, 4, 5])\n"
   ]
  },
  {
   "cell_type": "markdown",
   "id": "52c6ff96",
   "metadata": {},
   "source": [
    "### 1.2 Named functions that don’t return"
   ]
  },
  {
   "cell_type": "markdown",
   "id": "fead1a38",
   "metadata": {},
   "source": [
    "##### Notes:\n",
    "- A function does not have to return anything. \n",
    "- e.g. print() does something but doesn't return a value. "
   ]
  },
  {
   "cell_type": "markdown",
   "id": "3dd15598",
   "metadata": {},
   "source": [
    "### 1.3 Anonymous functions"
   ]
  },
  {
   "cell_type": "code",
   "execution_count": 14,
   "id": "1078a4ce",
   "metadata": {},
   "outputs": [
    {
     "data": {
      "text/plain": [
       "'Hello Super Man!'"
      ]
     },
     "execution_count": 14,
     "metadata": {},
     "output_type": "execute_result"
    }
   ],
   "source": [
    "my_short_function = lambda name: f\"Hello {name}!\"\n",
    "\n",
    "my_short_function(name=\"Super Man\")\n",
    "\n",
    "# lambda function always returns the value of the last statement. \n",
    "# This isn't a very good example because we used a name.\n"
   ]
  },
  {
   "cell_type": "code",
   "execution_count": 15,
   "id": "053dc0a5",
   "metadata": {},
   "outputs": [
    {
     "data": {
      "text/plain": [
       "[[0, 9, 19],\n",
       " [1, 8, 18],\n",
       " [2, 7, 17],\n",
       " [3, 6, 16],\n",
       " [4, 5, 15],\n",
       " [5, 4, 14],\n",
       " [6, 3, 13],\n",
       " [7, 2, 12],\n",
       " [8, 1, 11],\n",
       " [9, 0, 10]]"
      ]
     },
     "execution_count": 15,
     "metadata": {},
     "output_type": "execute_result"
    }
   ],
   "source": [
    "# To sort a 2D list, use sorted().\n",
    "\n",
    "numbers=[[9, 0, 10],\n",
    "         [8, 1, 11],\n",
    "         [7, 2, 12],\n",
    "         [6, 3, 13],\n",
    "         [5, 4, 14],\n",
    "         [4, 5, 15],\n",
    "         [3, 6, 16],\n",
    "         [2, 7, 17],\n",
    "         [1, 8, 18],\n",
    "         [0, 9, 19]]\n",
    "\n",
    "sorted(numbers)         # Sort by comparing the default key \n",
    "                        # (i.e. the 1st element) "
   ]
  },
  {
   "cell_type": "code",
   "execution_count": 22,
   "id": "ff16e17e",
   "metadata": {},
   "outputs": [
    {
     "data": {
      "text/plain": [
       "[[9, 0, 10],\n",
       " [8, 1, 11],\n",
       " [7, 2, 12],\n",
       " [6, 3, 13],\n",
       " [5, 4, 14],\n",
       " [4, 5, 15],\n",
       " [3, 6, 16],\n",
       " [2, 7, 17],\n",
       " [1, 8, 18],\n",
       " [0, 9, 19]]"
      ]
     },
     "execution_count": 22,
     "metadata": {},
     "output_type": "execute_result"
    }
   ],
   "source": [
    "# Sorting is based on comparing the first elements on the sub-list.\n",
    "# To use another criteria, specify a 'key' by doing this:\n",
    "\n",
    "sorted(numbers, key=lambda x: x[1])     \n",
    "\n",
    "# Sort by comparing a custom key that uses the 2nd element [1]."
   ]
  },
  {
   "cell_type": "code",
   "execution_count": null,
   "id": "b784e8ad",
   "metadata": {},
   "outputs": [],
   "source": [
    "sorted(numbers, key=lambda x: sum(x))   \n",
    "\n",
    "# Sort by comparing a custom key that uses the sum of the elements."
   ]
  },
  {
   "cell_type": "markdown",
   "id": "4d689b8f",
   "metadata": {},
   "source": [
    "### 1.4 Optional arguments"
   ]
  },
  {
   "cell_type": "code",
   "execution_count": 26,
   "id": "c8135bf3",
   "metadata": {},
   "outputs": [
    {
     "data": {
      "text/plain": [
       "'Hello no one!'"
      ]
     },
     "execution_count": 26,
     "metadata": {},
     "output_type": "execute_result"
    }
   ],
   "source": [
    "# We need to give the argument a default value so\n",
    "# that it always has something to work with. \n",
    "\n",
    "def greeting(name='no one'):\n",
    "    if name == 'Batman':\n",
    "        return 'Hello Batman! So, nice to meet you!'\n",
    "    else:\n",
    "        return f'Hello {name}!'\n",
    "    \n",
    "greeting()"
   ]
  },
  {
   "cell_type": "code",
   "execution_count": 28,
   "id": "45b12283",
   "metadata": {},
   "outputs": [
    {
     "name": "stdout",
     "output_type": "stream",
     "text": [
      "I am Batman!\n",
      "I---am---Batman!\n"
     ]
    }
   ],
   "source": [
    "print('I', 'am', 'Batman!')                 # Just for comparison\n",
    "#> I am Batman!\n",
    "print('I', 'am', 'Batman!', sep='---')  \n",
    "#> I---am---Batman!"
   ]
  },
  {
   "cell_type": "markdown",
   "id": "a1fff6ac",
   "metadata": {},
   "source": [
    "## 2 The importance of functions?"
   ]
  },
  {
   "cell_type": "markdown",
   "id": "fa4335df",
   "metadata": {},
   "source": [
    "### 2.1 An argument for functions"
   ]
  },
  {
   "cell_type": "markdown",
   "id": "d3c2c1f3",
   "metadata": {},
   "source": [
    "- Abstraction of details = hiding stuff \n",
    "- To focus on the overall solution as it hides unnecessary info. \n",
    "\n",
    "- Encapsulate code in a function to make it reusable.\n",
    "- Use functions to maintain a code because changes only need to be made at the function definition. \n"
   ]
  },
  {
   "cell_type": "markdown",
   "id": "093f006c",
   "metadata": {},
   "source": [
    "### 2.2 A word of caution"
   ]
  },
  {
   "cell_type": "markdown",
   "id": "bea02891",
   "metadata": {},
   "source": [
    "- Functions can be overused, which makes code difficult to read and increases computational overheads. "
   ]
  },
  {
   "cell_type": "markdown",
   "id": "bb4659bf",
   "metadata": {},
   "source": [
    "## Exercise 1 :  Do you know why?"
   ]
  },
  {
   "cell_type": "code",
   "execution_count": 38,
   "id": "efb4c01e",
   "metadata": {},
   "outputs": [
    {
     "data": {
      "text/plain": [
       "'Hello name!'"
      ]
     },
     "execution_count": 38,
     "metadata": {},
     "output_type": "execute_result"
    }
   ],
   "source": [
    "def greeting(name):\n",
    "    if name == 'Batman':\n",
    "        return 'Hello Batman! So, nice to meet you!'\n",
    "    return f'Hello {name}!'\n",
    "\n",
    "greeting('name')"
   ]
  },
  {
   "cell_type": "markdown",
   "id": "d8c73014",
   "metadata": {},
   "source": [
    "The function's name is greeting and it accepts a single argument called 'name'.\n",
    "\n",
    "This states that if argument is 'Batman', then the phrase 'Hello Batman! So, nice to meet you!' will be the output. Alternatively, since when Python sees a return keyword, it will jump out the function with the return value. Thus even without the 'else' statement, the code will still work as expected. \n"
   ]
  },
  {
   "cell_type": "markdown",
   "id": "28e1f330",
   "metadata": {},
   "source": [
    "## Exercise 2 :  Calculator functions"
   ]
  },
  {
   "cell_type": "code",
   "execution_count": 64,
   "id": "06e20fdb",
   "metadata": {},
   "outputs": [
    {
     "data": {
      "text/plain": [
       "array([0.5625    , 0.51515152, 0.78571429, 3.16666667, 0.36986301])"
      ]
     },
     "execution_count": 64,
     "metadata": {},
     "output_type": "execute_result"
    }
   ],
   "source": [
    "def add(x, y):\n",
    "    return x+y\n",
    "\n",
    "def subtract(x, y):\n",
    "    return x-y\n",
    "\n",
    "def multiply(x, y):\n",
    "    return x*y\n",
    "\n",
    "def divide(x, y):\n",
    "    if 0 in y:\n",
    "        return \"division by 0\"\n",
    "    else:\n",
    "        return x / y\n",
    "\n",
    "x=np.array([36, 34, 44, 76, 27])\n",
    "y=np.array([64, 66, 56, 24, 73])\n",
    "\n",
    "divide(x, y)"
   ]
  },
  {
   "cell_type": "markdown",
   "id": "e897f784",
   "metadata": {},
   "source": [
    "## Exercise 3 :  max_info() with NumPy"
   ]
  },
  {
   "cell_type": "code",
   "execution_count": 81,
   "id": "743fe714",
   "metadata": {},
   "outputs": [
    {
     "data": {
      "text/plain": [
       "(83, 2)"
      ]
     },
     "execution_count": 81,
     "metadata": {},
     "output_type": "execute_result"
    }
   ],
   "source": [
    "numbers = [40, 27, 83, 44, 74, 51, 76, 77, 10, 49]\n",
    "#index = [0, 1, 2, 3, 4, 5, 6, 7, 8, 9]\n",
    "\n",
    "#max number: loop through numbers\n",
    "#compare numbers: is the current number > previous number\n",
    "#if current number > previous: maximum\n",
    "#return maximum value at the end of the function\n",
    "\n",
    "def max_info(numbers):\n",
    "    max_num = numbers[0]                #we make the max number's position 0\n",
    "    max_index = 0                       #obviously max index is position 0\n",
    "    index = []                          #make the index into a list\n",
    "    for i in range(0, len(numbers)):    #when there is range of 0 to whatever the length of numbers list\n",
    "        index += [i]                    #add i to the index\n",
    "    for position in index[1:]:          #no need to include 1st number, since we alr called it before \n",
    "        current_num = numbers[position] #current number is the number based on position\n",
    "        current_index = position        #current index is the position\n",
    "        if current_num > max_num:       #if current number is more than max number\n",
    "            max_num = current_num       #then current number becomes max number\n",
    "            max_index = current_index   #and the current index becomes max index\n",
    "        else: continue                  #if current number is less than max index, continue down the list\n",
    "    return max_num, max_index           #return the max number and max index\n",
    "\n",
    "max_info(numbers)                       #call max info numbers "
   ]
  },
  {
   "cell_type": "code",
   "execution_count": 73,
   "id": "1b9863b2",
   "metadata": {},
   "outputs": [
    {
     "data": {
      "text/plain": [
       "[1, 2, 3, 4]"
      ]
     },
     "execution_count": 73,
     "metadata": {},
     "output_type": "execute_result"
    }
   ],
   "source": [
    "lst = [1, 2, 3]\n",
    "lst.append(4)\n",
    "lst"
   ]
  },
  {
   "cell_type": "code",
   "execution_count": 79,
   "id": "5151a710",
   "metadata": {},
   "outputs": [
    {
     "data": {
      "text/plain": [
       "[0, 1, 2, 3, 4, 5, 6, 7, 8, 9]"
      ]
     },
     "execution_count": 79,
     "metadata": {},
     "output_type": "execute_result"
    }
   ],
   "source": [
    "index = []\n",
    "numbers = [40, 27, 83, 44, 74, 51, 76, 77, 10, 49]\n",
    "for i in range(0, len(numbers)): \n",
    "    index += [i]\n",
    "    \n",
    "index\n",
    "\n"
   ]
  }
 ],
 "metadata": {
  "kernelspec": {
   "display_name": "Python 3 (ipykernel)",
   "language": "python",
   "name": "python3"
  },
  "language_info": {
   "codemirror_mode": {
    "name": "ipython",
    "version": 3
   },
   "file_extension": ".py",
   "mimetype": "text/x-python",
   "name": "python",
   "nbconvert_exporter": "python",
   "pygments_lexer": "ipython3",
   "version": "3.10.8"
  },
  "toc": {
   "base_numbering": 1,
   "nav_menu": {},
   "number_sections": true,
   "sideBar": true,
   "skip_h1_title": false,
   "title_cell": "Table of Contents",
   "title_sidebar": "Contents",
   "toc_cell": false,
   "toc_position": {},
   "toc_section_display": true,
   "toc_window_display": false
  },
  "varInspector": {
   "cols": {
    "lenName": 16,
    "lenType": 16,
    "lenVar": 40
   },
   "kernels_config": {
    "python": {
     "delete_cmd_postfix": "",
     "delete_cmd_prefix": "del ",
     "library": "var_list.py",
     "varRefreshCmd": "print(var_dic_list())"
    },
    "r": {
     "delete_cmd_postfix": ") ",
     "delete_cmd_prefix": "rm(",
     "library": "var_list.r",
     "varRefreshCmd": "cat(var_dic_list()) "
    }
   },
   "types_to_exclude": [
    "module",
    "function",
    "builtin_function_or_method",
    "instance",
    "_Feature"
   ],
   "window_display": false
  },
  "vscode": {
   "interpreter": {
    "hash": "31f2aee4e71d21fbe5cf8b01ff0e069b9275f58929596ceb00d14d90e3e16cd6"
   }
  }
 },
 "nbformat": 4,
 "nbformat_minor": 5
}
