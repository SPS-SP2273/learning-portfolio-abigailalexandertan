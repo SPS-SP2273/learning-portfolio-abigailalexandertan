{
 "cells": [
  {
   "cell_type": "markdown",
   "id": "123456",
   "metadata": {},
   "source": [
    "<div style=\"text-align:left;font-size:2em\"><span style=\"font-weight:bolder;font-size:1.25em\">SP2273 | Learning Portfolio</span><br><br><span style=\"font-weight:bold;color:darkred\">Loops (Need)</span></div>"
   ]
  },
  {
   "cell_type": "markdown",
   "id": "d2c99705",
   "metadata": {},
   "source": [
    "## 1 for"
   ]
  },
  {
   "cell_type": "markdown",
   "id": "23fecfce",
   "metadata": {},
   "source": [
    "##### Notes:\n",
    "- Loops or iterations is a feature of programming that allows us to repeat things in Python. \n",
    "\n",
    "\n",
    "- For looping, there are 2 mechanisms\n",
    "1. 'for' statement\n",
    "2. 'while' statement "
   ]
  },
  {
   "cell_type": "code",
   "execution_count": 5,
   "id": "3f024d8f",
   "metadata": {},
   "outputs": [],
   "source": [
    "real_names = [\"Natasha Romanoff\", \"Tony Stark\", \"Stephen Strange\"]"
   ]
  },
  {
   "cell_type": "code",
   "execution_count": 6,
   "id": "8487c44e",
   "metadata": {},
   "outputs": [
    {
     "name": "stdout",
     "output_type": "stream",
     "text": [
      "Natasha Romanoff is a Marvel superhero!\n",
      "Tony Stark is a Marvel superhero!\n",
      "Stephen Strange is a Marvel superhero!\n"
     ]
    }
   ],
   "source": [
    "# This is a long and BAD WAY because it does not scale well.\n",
    "name=real_names[0]\n",
    "print(f\"{name} is a Marvel superhero!\")\n",
    "\n",
    "name=real_names[1]\n",
    "print(f\"{name} is a Marvel superhero!\")\n",
    "\n",
    "name=real_names[2]\n",
    "print(f\"{name} is a Marvel superhero!\")"
   ]
  },
  {
   "cell_type": "markdown",
   "id": "739fd2d6",
   "metadata": {},
   "source": [
    "### 1.1 for with a list"
   ]
  },
  {
   "cell_type": "code",
   "execution_count": 7,
   "id": "503e75f1",
   "metadata": {},
   "outputs": [
    {
     "name": "stdout",
     "output_type": "stream",
     "text": [
      "Natasha Romanoff is a Marvel superhero!\n",
      "Tony Stark is a Marvel superhero!\n",
      "Stephen Strange is a Marvel superhero!\n"
     ]
    }
   ],
   "source": [
    "for name in real_names:\n",
    "    print(f\"{name} is a Marvel superhero!\")"
   ]
  },
  {
   "cell_type": "markdown",
   "id": "ab0ab9a9",
   "metadata": {},
   "source": [
    "##### Notes:\n",
    "Structure for loops:\n",
    "- Goes through the list and assigns a name the value of each element of the list. \n",
    "- It then runs the code-block with that value for name. \n",
    "- 'for' can be used to directly loop through a list. "
   ]
  },
  {
   "cell_type": "markdown",
   "id": "bde8d01a",
   "metadata": {},
   "source": [
    "### 1.2 for with enumerate"
   ]
  },
  {
   "cell_type": "code",
   "execution_count": 8,
   "id": "aec7e61b",
   "metadata": {},
   "outputs": [],
   "source": [
    "super_names = [\"Black Widow\", \"Iron Man\", \"Doctor Strange\"]\n",
    "real_names = [\"Natasha Romanoff\", \"Tony Stark\", \"Stephen Strange\"]"
   ]
  },
  {
   "cell_type": "code",
   "execution_count": 9,
   "id": "12b95f94",
   "metadata": {},
   "outputs": [
    {
     "name": "stdout",
     "output_type": "stream",
     "text": [
      "0: Natasha Romanoff is a Marvel superhero!\n",
      "1: Tony Stark is a Marvel superhero!\n",
      "2: Stephen Strange is a Marvel superhero!\n"
     ]
    }
   ],
   "source": [
    "for i, name in enumerate(real_names):\n",
    "    print(f'{i}: {name} is a Marvel superhero!')"
   ]
  },
  {
   "cell_type": "code",
   "execution_count": 10,
   "id": "ca609914",
   "metadata": {},
   "outputs": [
    {
     "name": "stdout",
     "output_type": "stream",
     "text": [
      "Natasha Romanoff is Black Widow!\n",
      "Tony Stark is Iron Man!\n",
      "Stephen Strange is Doctor Strange!\n"
     ]
    }
   ],
   "source": [
    "for i, name in enumerate(real_names):\n",
    "    superhero_name = super_names[i]\n",
    "    print(f'{name} is {superhero_name}!')"
   ]
  },
  {
   "cell_type": "code",
   "execution_count": 11,
   "id": "68fdc547",
   "metadata": {},
   "outputs": [
    {
     "name": "stdout",
     "output_type": "stream",
     "text": [
      "100: Natasha Romanoff is a Marvel superhero!\n",
      "101: Tony Stark is a Marvel superhero!\n",
      "102: Stephen Strange is a Marvel superhero!\n"
     ]
    }
   ],
   "source": [
    "for i, name in enumerate(real_names, 100):\n",
    "    print(f'{i}: {name} is a Marvel superhero!')"
   ]
  },
  {
   "cell_type": "markdown",
   "id": "963605cf",
   "metadata": {},
   "source": [
    "##### Notes:\n",
    "- Loops accepts only one list... so we use enumerate( ) to access the data in both lists. \n",
    "- Enumerate(  ) keeps count, it not only fives the elements of the list, but also gives a number. \n",
    "- Though enumerate(  ) typically starts at 0, the value can be changed to another value --> enumerate( ___, 100).\n",
    "- 'for' can be combined with enumerate( ) to count while looping through a list. "
   ]
  },
  {
   "cell_type": "markdown",
   "id": "c8497749",
   "metadata": {},
   "source": [
    "### 1.3 for with range"
   ]
  },
  {
   "cell_type": "code",
   "execution_count": 12,
   "id": "ca4e018f",
   "metadata": {},
   "outputs": [
    {
     "name": "stdout",
     "output_type": "stream",
     "text": [
      "0\n",
      "1\n",
      "2\n",
      "3\n",
      "4\n"
     ]
    }
   ],
   "source": [
    "for i in range(5):\n",
    "    print(i)\n"
   ]
  },
  {
   "cell_type": "code",
   "execution_count": 13,
   "id": "fa9a4785",
   "metadata": {},
   "outputs": [
    {
     "name": "stdout",
     "output_type": "stream",
     "text": [
      "5\n",
      "6\n",
      "7\n",
      "8\n",
      "9\n"
     ]
    }
   ],
   "source": [
    "for i in range(5, 10): # To change the start and ending values\n",
    "    print(i)"
   ]
  },
  {
   "cell_type": "code",
   "execution_count": 15,
   "id": "6a3ad717",
   "metadata": {},
   "outputs": [
    {
     "name": "stdout",
     "output_type": "stream",
     "text": [
      "1\n",
      "4\n",
      "7\n"
     ]
    }
   ],
   "source": [
    "for i in range(1, 10, 3): # To adjust the step size \n",
    "    print(i)"
   ]
  },
  {
   "cell_type": "code",
   "execution_count": 16,
   "id": "0a5ac565",
   "metadata": {},
   "outputs": [
    {
     "name": "stdout",
     "output_type": "stream",
     "text": [
      "Natasha Romanoff is Marvel's Black Widow!\n",
      "Tony Stark is Marvel's Iron Man!\n",
      "Stephen Strange is Marvel's Doctor Strange!\n"
     ]
    }
   ],
   "source": [
    "for i in range(len(real_names)):\n",
    "    real_name = real_names[i]\n",
    "    super_name = super_names[i]        \n",
    "    print(f\"{real_name} is Marvel's {super_name}!\")"
   ]
  },
  {
   "cell_type": "markdown",
   "id": "6367951d",
   "metadata": {},
   "source": [
    "##### Notes:\n",
    "- range( ) can be used to get the 'for' loop to run to give a number of loops "
   ]
  },
  {
   "cell_type": "markdown",
   "id": "c53b7d2a",
   "metadata": {},
   "source": [
    "## 2 while"
   ]
  },
  {
   "cell_type": "code",
   "execution_count": 17,
   "id": "00c0e5c6",
   "metadata": {},
   "outputs": [
    {
     "name": "stdout",
     "output_type": "stream",
     "text": [
      "0\n",
      "1\n",
      "2\n",
      "3\n",
      "4\n"
     ]
    }
   ],
   "source": [
    "number = 0\n",
    "\n",
    "while number < 5:\n",
    "    print(number)\n",
    "    number += 1"
   ]
  },
  {
   "cell_type": "markdown",
   "id": "a9dc88fd",
   "metadata": {},
   "source": [
    "## Exercise 1 :  Make me a list"
   ]
  },
  {
   "cell_type": "code",
   "execution_count": 19,
   "id": "d62abfea",
   "metadata": {},
   "outputs": [
    {
     "name": "stdout",
     "output_type": "stream",
     "text": [
      "0\n",
      "1\n",
      "4\n",
      "9\n",
      "16\n",
      "25\n",
      "36\n",
      "49\n",
      "64\n"
     ]
    }
   ],
   "source": [
    "for i in range(0, 9):\n",
    "    print(i**2)"
   ]
  },
  {
   "cell_type": "markdown",
   "id": "6688f81e",
   "metadata": {},
   "source": [
    "## Exercise 2 :  Make me an odd list"
   ]
  },
  {
   "cell_type": "code",
   "execution_count": 20,
   "id": "38186188",
   "metadata": {},
   "outputs": [
    {
     "name": "stdout",
     "output_type": "stream",
     "text": [
      "1\n",
      "9\n",
      "25\n",
      "49\n",
      "81\n"
     ]
    }
   ],
   "source": [
    "for i in range(1, 10, 2):\n",
    "    print(i**2)"
   ]
  },
  {
   "cell_type": "markdown",
   "id": "ea79f9c4",
   "metadata": {},
   "source": [
    "## Exercise 3 :  Make me another odd list"
   ]
  },
  {
   "cell_type": "code",
   "execution_count": 21,
   "id": "96426f10",
   "metadata": {},
   "outputs": [
    {
     "name": "stdout",
     "output_type": "stream",
     "text": [
      "1\n",
      "9\n",
      "25\n",
      "49\n",
      "81\n"
     ]
    }
   ],
   "source": [
    "number = 1\n",
    "\n",
    "while number < 10:\n",
    "    print(number**2)\n",
    "    number += 2"
   ]
  }
 ],
 "metadata": {
  "kernelspec": {
   "display_name": "Python 3 (ipykernel)",
   "language": "python",
   "name": "python3"
  },
  "language_info": {
   "codemirror_mode": {
    "name": "ipython",
    "version": 3
   },
   "file_extension": ".py",
   "mimetype": "text/x-python",
   "name": "python",
   "nbconvert_exporter": "python",
   "pygments_lexer": "ipython3",
   "version": "3.10.8"
  },
  "toc": {
   "base_numbering": 1,
   "nav_menu": {},
   "number_sections": true,
   "sideBar": true,
   "skip_h1_title": false,
   "title_cell": "Table of Contents",
   "title_sidebar": "Contents",
   "toc_cell": false,
   "toc_position": {},
   "toc_section_display": true,
   "toc_window_display": false
  },
  "varInspector": {
   "cols": {
    "lenName": 16,
    "lenType": 16,
    "lenVar": 40
   },
   "kernels_config": {
    "python": {
     "delete_cmd_postfix": "",
     "delete_cmd_prefix": "del ",
     "library": "var_list.py",
     "varRefreshCmd": "print(var_dic_list())"
    },
    "r": {
     "delete_cmd_postfix": ") ",
     "delete_cmd_prefix": "rm(",
     "library": "var_list.r",
     "varRefreshCmd": "cat(var_dic_list()) "
    }
   },
   "types_to_exclude": [
    "module",
    "function",
    "builtin_function_or_method",
    "instance",
    "_Feature"
   ],
   "window_display": false
  },
  "vscode": {
   "interpreter": {
    "hash": "31f2aee4e71d21fbe5cf8b01ff0e069b9275f58929596ceb00d14d90e3e16cd6"
   }
  }
 },
 "nbformat": 4,
 "nbformat_minor": 5
}
