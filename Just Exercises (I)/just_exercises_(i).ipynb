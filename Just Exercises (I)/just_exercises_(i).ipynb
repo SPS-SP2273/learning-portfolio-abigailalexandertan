{
 "cells": [
  {
   "cell_type": "markdown",
   "id": "123456",
   "metadata": {},
   "source": [
    "<div style=\"text-align:left;font-size:2em\"><span style=\"font-weight:bolder;font-size:1.25em\">SP2273 | Learning Portfolio</span><br><br><span style=\"font-weight:bold;color:darkred\">Just Exercises (I)</span></div>"
   ]
  },
  {
   "cell_type": "markdown",
   "id": "c1899de7",
   "metadata": {},
   "source": [
    "## Exercise 1 :  F-strings to the rescue"
   ]
  },
  {
   "cell_type": "code",
   "execution_count": 1,
   "id": "b48b4b3f",
   "metadata": {},
   "outputs": [
    {
     "name": "stdout",
     "output_type": "stream",
     "text": [
      "00001\n",
      "00002\n",
      "00003\n",
      "00004\n",
      "00005\n",
      "00006\n",
      "00007\n",
      "00008\n",
      "00009\n",
      "00010\n"
     ]
    }
   ],
   "source": [
    "# Q1) Print the following:\n",
    "\n",
    "print('00001\\n00002\\n00003\\n00004\\n00005\\n00006\\n00007\\n00008\\n00009\\n00010')"
   ]
  },
  {
   "cell_type": "code",
   "execution_count": 2,
   "id": "a31f8288",
   "metadata": {},
   "outputs": [
    {
     "name": "stdout",
     "output_type": "stream",
     "text": [
      "001          +\n",
      "002         ++\n",
      "003        +++\n",
      "004       ++++\n",
      "005      +++++\n",
      "006     ++++++\n",
      "007    +++++++\n",
      "008   ++++++++\n",
      "009  +++++++++\n",
      "010 ++++++++++\n"
     ]
    }
   ],
   "source": [
    "# Q2) Print the following:\n",
    "\n",
    "for i in range(1, 11):\n",
    "    print(f'{i:03d}' + \" \" * (11-i) + \"+\" * i)\n",
    "\n",
    "#make i the subject, \n",
    "#03d = integer with 3 numbers in it \n",
    "#\" \" = spaces\n",
    "#*(11-i) = multiply the spaces by '11' minus the number of rows\n",
    "#\"+\"*i = + multiplied by row number "
   ]
  },
  {
   "cell_type": "code",
   "execution_count": 3,
   "id": "5bb697fc",
   "metadata": {},
   "outputs": [
    {
     "name": "stdout",
     "output_type": "stream",
     "text": [
      "001-+++++++++\n",
      "002--++++++++\n",
      "003---+++++++\n",
      "004----++++++\n",
      "005-----+++++\n",
      "006------++++\n",
      "007-------+++\n",
      "008--------++\n",
      "009---------+\n",
      "010----------\n"
     ]
    }
   ],
   "source": [
    "# Q3) Produce the following output:\n",
    "\n",
    "for i in range(1, 11):\n",
    "    print(f'{i:03d}' + \"-\" * (1*i) + \"+\"*(10-i))"
   ]
  },
  {
   "cell_type": "code",
   "execution_count": 4,
   "id": "fcdcd839",
   "metadata": {},
   "outputs": [
    {
     "name": "stdout",
     "output_type": "stream",
     "text": [
      "['bruce_exploit.txt', 'bruce_enemy.txt', 'bruce_friend.txt', 'natasha_exploit.txt', 'natasha_enemy.txt', 'natasha_friend.txt', 'tony_exploit.txt', 'tony_enemy.txt', 'tony_friend.txt']\n"
     ]
    }
   ],
   "source": [
    "# Q4) Create various text files:\n",
    "\n",
    "real_names = ['bruce', 'natasha', 'tony']\n",
    "categories = ['exploit', 'enemy', 'friend']\n",
    "\n",
    "txt_files = [real + \"_\" + cat + \".txt\" for real in real_names for cat in categories]\n",
    "print(txt_files)"
   ]
  },
  {
   "cell_type": "code",
   "execution_count": 140,
   "id": "40693a82",
   "metadata": {},
   "outputs": [
    {
     "name": "stdout",
     "output_type": "stream",
     "text": [
      "data_sg_exp-01_trial-001.txt\n",
      "data_sg_exp-01_trial-002.txt\n",
      "data_sg_exp-01_trial-003.txt\n",
      "data_sg_exp-01_trial-004.txt\n",
      "data_sg_exp-01_trial-005.txt\n",
      "data_sg_exp-01_trial-006.txt\n",
      "data_sg_exp-01_trial-007.txt\n",
      "data_sg_exp-01_trial-008.txt\n",
      "data_sg_exp-01_trial-009.txt\n",
      "data_sg_exp-01_trial-010.txt\n",
      "data_sg_exp-01_trial-011.txt\n",
      "data_sg_exp-01_trial-012.txt\n",
      "data_sg_exp-01_trial-013.txt\n",
      "data_sg_exp-01_trial-014.txt\n",
      "data_sg_exp-01_trial-015.txt\n",
      "data_sg_exp-01_trial-016.txt\n",
      "data_sg_exp-01_trial-017.txt\n",
      "data_sg_exp-01_trial-018.txt\n",
      "data_sg_exp-01_trial-019.txt\n",
      "data_sg_exp-01_trial-020.txt\n",
      "data_sg_exp-01_trial-021.txt\n",
      "data_sg_exp-01_trial-022.txt\n",
      "data_sg_exp-01_trial-023.txt\n",
      "data_sg_exp-01_trial-024.txt\n",
      "data_sg_exp-01_trial-025.txt\n",
      "data_sg_exp-01_trial-026.txt\n",
      "data_sg_exp-01_trial-027.txt\n",
      "data_sg_exp-01_trial-028.txt\n",
      "data_sg_exp-01_trial-029.txt\n",
      "data_sg_exp-01_trial-030.txt\n",
      "data_sg_exp-01_trial-031.txt\n",
      "data_sg_exp-01_trial-032.txt\n",
      "data_sg_exp-01_trial-033.txt\n",
      "data_sg_exp-01_trial-034.txt\n",
      "data_sg_exp-01_trial-035.txt\n",
      "data_sg_exp-01_trial-036.txt\n",
      "data_sg_exp-01_trial-037.txt\n",
      "data_sg_exp-01_trial-038.txt\n",
      "data_sg_exp-01_trial-039.txt\n",
      "data_sg_exp-01_trial-040.txt\n",
      "data_sg_exp-01_trial-041.txt\n",
      "data_sg_exp-01_trial-042.txt\n",
      "data_sg_exp-01_trial-043.txt\n",
      "data_sg_exp-01_trial-044.txt\n",
      "data_sg_exp-01_trial-045.txt\n",
      "data_sg_exp-01_trial-046.txt\n",
      "data_sg_exp-01_trial-047.txt\n",
      "data_sg_exp-01_trial-048.txt\n",
      "data_sg_exp-01_trial-049.txt\n",
      "data_sg_exp-01_trial-050.txt\n",
      "data_sg_exp-02_trial-001.txt\n",
      "data_sg_exp-02_trial-002.txt\n",
      "data_sg_exp-02_trial-003.txt\n",
      "data_sg_exp-02_trial-004.txt\n",
      "data_sg_exp-02_trial-005.txt\n",
      "data_sg_exp-02_trial-006.txt\n",
      "data_sg_exp-02_trial-007.txt\n",
      "data_sg_exp-02_trial-008.txt\n",
      "data_sg_exp-02_trial-009.txt\n",
      "data_sg_exp-02_trial-010.txt\n",
      "data_sg_exp-02_trial-011.txt\n",
      "data_sg_exp-02_trial-012.txt\n",
      "data_sg_exp-02_trial-013.txt\n",
      "data_sg_exp-02_trial-014.txt\n",
      "data_sg_exp-02_trial-015.txt\n",
      "data_sg_exp-02_trial-016.txt\n",
      "data_sg_exp-02_trial-017.txt\n",
      "data_sg_exp-02_trial-018.txt\n",
      "data_sg_exp-02_trial-019.txt\n",
      "data_sg_exp-02_trial-020.txt\n",
      "data_sg_exp-02_trial-021.txt\n",
      "data_sg_exp-02_trial-022.txt\n",
      "data_sg_exp-02_trial-023.txt\n",
      "data_sg_exp-02_trial-024.txt\n",
      "data_sg_exp-02_trial-025.txt\n",
      "data_sg_exp-02_trial-026.txt\n",
      "data_sg_exp-02_trial-027.txt\n",
      "data_sg_exp-02_trial-028.txt\n",
      "data_sg_exp-02_trial-029.txt\n",
      "data_sg_exp-02_trial-030.txt\n",
      "data_sg_exp-02_trial-031.txt\n",
      "data_sg_exp-02_trial-032.txt\n",
      "data_sg_exp-02_trial-033.txt\n",
      "data_sg_exp-02_trial-034.txt\n",
      "data_sg_exp-02_trial-035.txt\n",
      "data_sg_exp-02_trial-036.txt\n",
      "data_sg_exp-02_trial-037.txt\n",
      "data_sg_exp-02_trial-038.txt\n",
      "data_sg_exp-02_trial-039.txt\n",
      "data_sg_exp-02_trial-040.txt\n",
      "data_sg_exp-02_trial-041.txt\n",
      "data_sg_exp-02_trial-042.txt\n",
      "data_sg_exp-02_trial-043.txt\n",
      "data_sg_exp-02_trial-044.txt\n",
      "data_sg_exp-02_trial-045.txt\n",
      "data_sg_exp-02_trial-046.txt\n",
      "data_sg_exp-02_trial-047.txt\n",
      "data_sg_exp-02_trial-048.txt\n",
      "data_sg_exp-02_trial-049.txt\n",
      "data_sg_exp-02_trial-050.txt\n",
      "data_sg_exp-03_trial-001.txt\n",
      "data_sg_exp-03_trial-002.txt\n",
      "data_sg_exp-03_trial-003.txt\n",
      "data_sg_exp-03_trial-004.txt\n",
      "data_sg_exp-03_trial-005.txt\n",
      "data_sg_exp-03_trial-006.txt\n",
      "data_sg_exp-03_trial-007.txt\n",
      "data_sg_exp-03_trial-008.txt\n",
      "data_sg_exp-03_trial-009.txt\n",
      "data_sg_exp-03_trial-010.txt\n",
      "data_sg_exp-03_trial-011.txt\n",
      "data_sg_exp-03_trial-012.txt\n",
      "data_sg_exp-03_trial-013.txt\n",
      "data_sg_exp-03_trial-014.txt\n",
      "data_sg_exp-03_trial-015.txt\n",
      "data_sg_exp-03_trial-016.txt\n",
      "data_sg_exp-03_trial-017.txt\n",
      "data_sg_exp-03_trial-018.txt\n",
      "data_sg_exp-03_trial-019.txt\n",
      "data_sg_exp-03_trial-020.txt\n",
      "data_sg_exp-03_trial-021.txt\n",
      "data_sg_exp-03_trial-022.txt\n",
      "data_sg_exp-03_trial-023.txt\n",
      "data_sg_exp-03_trial-024.txt\n",
      "data_sg_exp-03_trial-025.txt\n",
      "data_sg_exp-03_trial-026.txt\n",
      "data_sg_exp-03_trial-027.txt\n",
      "data_sg_exp-03_trial-028.txt\n",
      "data_sg_exp-03_trial-029.txt\n",
      "data_sg_exp-03_trial-030.txt\n",
      "data_sg_exp-03_trial-031.txt\n",
      "data_sg_exp-03_trial-032.txt\n",
      "data_sg_exp-03_trial-033.txt\n",
      "data_sg_exp-03_trial-034.txt\n",
      "data_sg_exp-03_trial-035.txt\n",
      "data_sg_exp-03_trial-036.txt\n",
      "data_sg_exp-03_trial-037.txt\n",
      "data_sg_exp-03_trial-038.txt\n",
      "data_sg_exp-03_trial-039.txt\n",
      "data_sg_exp-03_trial-040.txt\n",
      "data_sg_exp-03_trial-041.txt\n",
      "data_sg_exp-03_trial-042.txt\n",
      "data_sg_exp-03_trial-043.txt\n",
      "data_sg_exp-03_trial-044.txt\n",
      "data_sg_exp-03_trial-045.txt\n",
      "data_sg_exp-03_trial-046.txt\n",
      "data_sg_exp-03_trial-047.txt\n",
      "data_sg_exp-03_trial-048.txt\n",
      "data_sg_exp-03_trial-049.txt\n",
      "data_sg_exp-03_trial-050.txt\n",
      "data_gb_exp-01_trial-001.txt\n",
      "data_gb_exp-01_trial-002.txt\n",
      "data_gb_exp-01_trial-003.txt\n",
      "data_gb_exp-01_trial-004.txt\n",
      "data_gb_exp-01_trial-005.txt\n",
      "data_gb_exp-01_trial-006.txt\n",
      "data_gb_exp-01_trial-007.txt\n",
      "data_gb_exp-01_trial-008.txt\n",
      "data_gb_exp-01_trial-009.txt\n",
      "data_gb_exp-01_trial-010.txt\n",
      "data_gb_exp-01_trial-011.txt\n",
      "data_gb_exp-01_trial-012.txt\n",
      "data_gb_exp-01_trial-013.txt\n",
      "data_gb_exp-01_trial-014.txt\n",
      "data_gb_exp-01_trial-015.txt\n",
      "data_gb_exp-01_trial-016.txt\n",
      "data_gb_exp-01_trial-017.txt\n",
      "data_gb_exp-01_trial-018.txt\n",
      "data_gb_exp-01_trial-019.txt\n",
      "data_gb_exp-01_trial-020.txt\n",
      "data_gb_exp-01_trial-021.txt\n",
      "data_gb_exp-01_trial-022.txt\n",
      "data_gb_exp-01_trial-023.txt\n",
      "data_gb_exp-01_trial-024.txt\n",
      "data_gb_exp-01_trial-025.txt\n",
      "data_gb_exp-01_trial-026.txt\n",
      "data_gb_exp-01_trial-027.txt\n",
      "data_gb_exp-01_trial-028.txt\n",
      "data_gb_exp-01_trial-029.txt\n",
      "data_gb_exp-01_trial-030.txt\n",
      "data_gb_exp-01_trial-031.txt\n",
      "data_gb_exp-01_trial-032.txt\n",
      "data_gb_exp-01_trial-033.txt\n",
      "data_gb_exp-01_trial-034.txt\n",
      "data_gb_exp-01_trial-035.txt\n",
      "data_gb_exp-01_trial-036.txt\n",
      "data_gb_exp-01_trial-037.txt\n",
      "data_gb_exp-01_trial-038.txt\n",
      "data_gb_exp-01_trial-039.txt\n",
      "data_gb_exp-01_trial-040.txt\n",
      "data_gb_exp-01_trial-041.txt\n",
      "data_gb_exp-01_trial-042.txt\n",
      "data_gb_exp-01_trial-043.txt\n",
      "data_gb_exp-01_trial-044.txt\n",
      "data_gb_exp-01_trial-045.txt\n",
      "data_gb_exp-01_trial-046.txt\n",
      "data_gb_exp-01_trial-047.txt\n",
      "data_gb_exp-01_trial-048.txt\n",
      "data_gb_exp-01_trial-049.txt\n",
      "data_gb_exp-01_trial-050.txt\n",
      "data_gb_exp-02_trial-001.txt\n",
      "data_gb_exp-02_trial-002.txt\n",
      "data_gb_exp-02_trial-003.txt\n",
      "data_gb_exp-02_trial-004.txt\n",
      "data_gb_exp-02_trial-005.txt\n",
      "data_gb_exp-02_trial-006.txt\n",
      "data_gb_exp-02_trial-007.txt\n",
      "data_gb_exp-02_trial-008.txt\n",
      "data_gb_exp-02_trial-009.txt\n",
      "data_gb_exp-02_trial-010.txt\n",
      "data_gb_exp-02_trial-011.txt\n",
      "data_gb_exp-02_trial-012.txt\n",
      "data_gb_exp-02_trial-013.txt\n",
      "data_gb_exp-02_trial-014.txt\n",
      "data_gb_exp-02_trial-015.txt\n",
      "data_gb_exp-02_trial-016.txt\n",
      "data_gb_exp-02_trial-017.txt\n",
      "data_gb_exp-02_trial-018.txt\n",
      "data_gb_exp-02_trial-019.txt\n",
      "data_gb_exp-02_trial-020.txt\n",
      "data_gb_exp-02_trial-021.txt\n",
      "data_gb_exp-02_trial-022.txt\n",
      "data_gb_exp-02_trial-023.txt\n",
      "data_gb_exp-02_trial-024.txt\n",
      "data_gb_exp-02_trial-025.txt\n",
      "data_gb_exp-02_trial-026.txt\n",
      "data_gb_exp-02_trial-027.txt\n",
      "data_gb_exp-02_trial-028.txt\n",
      "data_gb_exp-02_trial-029.txt\n",
      "data_gb_exp-02_trial-030.txt\n",
      "data_gb_exp-02_trial-031.txt\n",
      "data_gb_exp-02_trial-032.txt\n",
      "data_gb_exp-02_trial-033.txt\n",
      "data_gb_exp-02_trial-034.txt\n",
      "data_gb_exp-02_trial-035.txt\n",
      "data_gb_exp-02_trial-036.txt\n",
      "data_gb_exp-02_trial-037.txt\n",
      "data_gb_exp-02_trial-038.txt\n",
      "data_gb_exp-02_trial-039.txt\n",
      "data_gb_exp-02_trial-040.txt\n",
      "data_gb_exp-02_trial-041.txt\n",
      "data_gb_exp-02_trial-042.txt\n",
      "data_gb_exp-02_trial-043.txt\n",
      "data_gb_exp-02_trial-044.txt\n",
      "data_gb_exp-02_trial-045.txt\n",
      "data_gb_exp-02_trial-046.txt\n",
      "data_gb_exp-02_trial-047.txt\n",
      "data_gb_exp-02_trial-048.txt\n",
      "data_gb_exp-02_trial-049.txt\n",
      "data_gb_exp-02_trial-050.txt\n",
      "data_gb_exp-03_trial-001.txt\n",
      "data_gb_exp-03_trial-002.txt\n",
      "data_gb_exp-03_trial-003.txt\n",
      "data_gb_exp-03_trial-004.txt\n",
      "data_gb_exp-03_trial-005.txt\n",
      "data_gb_exp-03_trial-006.txt\n",
      "data_gb_exp-03_trial-007.txt\n",
      "data_gb_exp-03_trial-008.txt\n",
      "data_gb_exp-03_trial-009.txt\n",
      "data_gb_exp-03_trial-010.txt\n",
      "data_gb_exp-03_trial-011.txt\n",
      "data_gb_exp-03_trial-012.txt\n",
      "data_gb_exp-03_trial-013.txt\n",
      "data_gb_exp-03_trial-014.txt\n",
      "data_gb_exp-03_trial-015.txt\n",
      "data_gb_exp-03_trial-016.txt\n",
      "data_gb_exp-03_trial-017.txt\n",
      "data_gb_exp-03_trial-018.txt\n",
      "data_gb_exp-03_trial-019.txt\n",
      "data_gb_exp-03_trial-020.txt\n",
      "data_gb_exp-03_trial-021.txt\n",
      "data_gb_exp-03_trial-022.txt\n",
      "data_gb_exp-03_trial-023.txt\n",
      "data_gb_exp-03_trial-024.txt\n",
      "data_gb_exp-03_trial-025.txt\n",
      "data_gb_exp-03_trial-026.txt\n",
      "data_gb_exp-03_trial-027.txt\n",
      "data_gb_exp-03_trial-028.txt\n",
      "data_gb_exp-03_trial-029.txt\n",
      "data_gb_exp-03_trial-030.txt\n",
      "data_gb_exp-03_trial-031.txt\n",
      "data_gb_exp-03_trial-032.txt\n",
      "data_gb_exp-03_trial-033.txt\n",
      "data_gb_exp-03_trial-034.txt\n",
      "data_gb_exp-03_trial-035.txt\n",
      "data_gb_exp-03_trial-036.txt\n",
      "data_gb_exp-03_trial-037.txt\n",
      "data_gb_exp-03_trial-038.txt\n",
      "data_gb_exp-03_trial-039.txt\n",
      "data_gb_exp-03_trial-040.txt\n",
      "data_gb_exp-03_trial-041.txt\n",
      "data_gb_exp-03_trial-042.txt\n",
      "data_gb_exp-03_trial-043.txt\n",
      "data_gb_exp-03_trial-044.txt\n",
      "data_gb_exp-03_trial-045.txt\n",
      "data_gb_exp-03_trial-046.txt\n",
      "data_gb_exp-03_trial-047.txt\n",
      "data_gb_exp-03_trial-048.txt\n",
      "data_gb_exp-03_trial-049.txt\n",
      "data_gb_exp-03_trial-050.txt\n",
      "data_us_exp-01_trial-001.txt\n",
      "data_us_exp-01_trial-002.txt\n",
      "data_us_exp-01_trial-003.txt\n",
      "data_us_exp-01_trial-004.txt\n",
      "data_us_exp-01_trial-005.txt\n",
      "data_us_exp-01_trial-006.txt\n",
      "data_us_exp-01_trial-007.txt\n",
      "data_us_exp-01_trial-008.txt\n",
      "data_us_exp-01_trial-009.txt\n",
      "data_us_exp-01_trial-010.txt\n",
      "data_us_exp-01_trial-011.txt\n",
      "data_us_exp-01_trial-012.txt\n",
      "data_us_exp-01_trial-013.txt\n",
      "data_us_exp-01_trial-014.txt\n",
      "data_us_exp-01_trial-015.txt\n",
      "data_us_exp-01_trial-016.txt\n",
      "data_us_exp-01_trial-017.txt\n",
      "data_us_exp-01_trial-018.txt\n",
      "data_us_exp-01_trial-019.txt\n",
      "data_us_exp-01_trial-020.txt\n",
      "data_us_exp-01_trial-021.txt\n",
      "data_us_exp-01_trial-022.txt\n",
      "data_us_exp-01_trial-023.txt\n",
      "data_us_exp-01_trial-024.txt\n",
      "data_us_exp-01_trial-025.txt\n",
      "data_us_exp-01_trial-026.txt\n",
      "data_us_exp-01_trial-027.txt\n",
      "data_us_exp-01_trial-028.txt\n",
      "data_us_exp-01_trial-029.txt\n",
      "data_us_exp-01_trial-030.txt\n",
      "data_us_exp-01_trial-031.txt\n",
      "data_us_exp-01_trial-032.txt\n",
      "data_us_exp-01_trial-033.txt\n",
      "data_us_exp-01_trial-034.txt\n",
      "data_us_exp-01_trial-035.txt\n",
      "data_us_exp-01_trial-036.txt\n",
      "data_us_exp-01_trial-037.txt\n",
      "data_us_exp-01_trial-038.txt\n",
      "data_us_exp-01_trial-039.txt\n",
      "data_us_exp-01_trial-040.txt\n",
      "data_us_exp-01_trial-041.txt\n",
      "data_us_exp-01_trial-042.txt\n",
      "data_us_exp-01_trial-043.txt\n",
      "data_us_exp-01_trial-044.txt\n",
      "data_us_exp-01_trial-045.txt\n",
      "data_us_exp-01_trial-046.txt\n",
      "data_us_exp-01_trial-047.txt\n",
      "data_us_exp-01_trial-048.txt\n",
      "data_us_exp-01_trial-049.txt\n",
      "data_us_exp-01_trial-050.txt\n",
      "data_us_exp-02_trial-001.txt\n",
      "data_us_exp-02_trial-002.txt\n",
      "data_us_exp-02_trial-003.txt\n",
      "data_us_exp-02_trial-004.txt\n",
      "data_us_exp-02_trial-005.txt\n",
      "data_us_exp-02_trial-006.txt\n",
      "data_us_exp-02_trial-007.txt\n",
      "data_us_exp-02_trial-008.txt\n",
      "data_us_exp-02_trial-009.txt\n",
      "data_us_exp-02_trial-010.txt\n",
      "data_us_exp-02_trial-011.txt\n",
      "data_us_exp-02_trial-012.txt\n",
      "data_us_exp-02_trial-013.txt\n",
      "data_us_exp-02_trial-014.txt\n",
      "data_us_exp-02_trial-015.txt\n",
      "data_us_exp-02_trial-016.txt\n",
      "data_us_exp-02_trial-017.txt\n",
      "data_us_exp-02_trial-018.txt\n",
      "data_us_exp-02_trial-019.txt\n",
      "data_us_exp-02_trial-020.txt\n",
      "data_us_exp-02_trial-021.txt\n",
      "data_us_exp-02_trial-022.txt\n",
      "data_us_exp-02_trial-023.txt\n",
      "data_us_exp-02_trial-024.txt\n",
      "data_us_exp-02_trial-025.txt\n",
      "data_us_exp-02_trial-026.txt\n",
      "data_us_exp-02_trial-027.txt\n",
      "data_us_exp-02_trial-028.txt\n",
      "data_us_exp-02_trial-029.txt\n",
      "data_us_exp-02_trial-030.txt\n",
      "data_us_exp-02_trial-031.txt\n",
      "data_us_exp-02_trial-032.txt\n",
      "data_us_exp-02_trial-033.txt\n",
      "data_us_exp-02_trial-034.txt\n",
      "data_us_exp-02_trial-035.txt\n",
      "data_us_exp-02_trial-036.txt\n",
      "data_us_exp-02_trial-037.txt\n",
      "data_us_exp-02_trial-038.txt\n",
      "data_us_exp-02_trial-039.txt\n",
      "data_us_exp-02_trial-040.txt\n",
      "data_us_exp-02_trial-041.txt\n",
      "data_us_exp-02_trial-042.txt\n",
      "data_us_exp-02_trial-043.txt\n",
      "data_us_exp-02_trial-044.txt\n",
      "data_us_exp-02_trial-045.txt\n",
      "data_us_exp-02_trial-046.txt\n",
      "data_us_exp-02_trial-047.txt\n",
      "data_us_exp-02_trial-048.txt\n",
      "data_us_exp-02_trial-049.txt\n",
      "data_us_exp-02_trial-050.txt\n",
      "data_us_exp-03_trial-001.txt\n",
      "data_us_exp-03_trial-002.txt\n",
      "data_us_exp-03_trial-003.txt\n",
      "data_us_exp-03_trial-004.txt\n",
      "data_us_exp-03_trial-005.txt\n",
      "data_us_exp-03_trial-006.txt\n",
      "data_us_exp-03_trial-007.txt\n",
      "data_us_exp-03_trial-008.txt\n",
      "data_us_exp-03_trial-009.txt\n",
      "data_us_exp-03_trial-010.txt\n",
      "data_us_exp-03_trial-011.txt\n",
      "data_us_exp-03_trial-012.txt\n",
      "data_us_exp-03_trial-013.txt\n",
      "data_us_exp-03_trial-014.txt\n",
      "data_us_exp-03_trial-015.txt\n",
      "data_us_exp-03_trial-016.txt\n",
      "data_us_exp-03_trial-017.txt\n",
      "data_us_exp-03_trial-018.txt\n",
      "data_us_exp-03_trial-019.txt\n",
      "data_us_exp-03_trial-020.txt\n",
      "data_us_exp-03_trial-021.txt\n",
      "data_us_exp-03_trial-022.txt\n",
      "data_us_exp-03_trial-023.txt\n",
      "data_us_exp-03_trial-024.txt\n",
      "data_us_exp-03_trial-025.txt\n",
      "data_us_exp-03_trial-026.txt\n",
      "data_us_exp-03_trial-027.txt\n",
      "data_us_exp-03_trial-028.txt\n",
      "data_us_exp-03_trial-029.txt\n",
      "data_us_exp-03_trial-030.txt\n",
      "data_us_exp-03_trial-031.txt\n",
      "data_us_exp-03_trial-032.txt\n",
      "data_us_exp-03_trial-033.txt\n",
      "data_us_exp-03_trial-034.txt\n",
      "data_us_exp-03_trial-035.txt\n",
      "data_us_exp-03_trial-036.txt\n",
      "data_us_exp-03_trial-037.txt\n",
      "data_us_exp-03_trial-038.txt\n",
      "data_us_exp-03_trial-039.txt\n",
      "data_us_exp-03_trial-040.txt\n",
      "data_us_exp-03_trial-041.txt\n",
      "data_us_exp-03_trial-042.txt\n",
      "data_us_exp-03_trial-043.txt\n",
      "data_us_exp-03_trial-044.txt\n",
      "data_us_exp-03_trial-045.txt\n",
      "data_us_exp-03_trial-046.txt\n",
      "data_us_exp-03_trial-047.txt\n",
      "data_us_exp-03_trial-048.txt\n",
      "data_us_exp-03_trial-049.txt\n",
      "data_us_exp-03_trial-050.txt\n"
     ]
    }
   ],
   "source": [
    "# Q5) Create list of files:\n",
    "\n",
    "for country in countries:\n",
    "    for exp in range(1,4):\n",
    "        for trial in range(1, 51):\n",
    "            print(f'{country}_exp-{exp:02d}_trial-{trial:03d}.txt')"
   ]
  },
  {
   "cell_type": "markdown",
   "id": "5f8f0fcd",
   "metadata": {},
   "source": [
    "## Exercise 2 :  Tutti frutti"
   ]
  },
  {
   "cell_type": "code",
   "execution_count": 99,
   "id": "9bdab3c3",
   "metadata": {},
   "outputs": [
    {
     "data": {
      "text/plain": [
       "True"
      ]
     },
     "execution_count": 99,
     "metadata": {},
     "output_type": "execute_result"
    }
   ],
   "source": [
    "fruits == [\"apple\", \"banana\", \"pineapple\", \"jackfruit\",\n",
    "        \"peach\", \"durian\", \"watermelon\", \"mango\",\n",
    "        \"strawberry\", \"passionfruit\"]\n",
    "\n",
    "fruits == \"mango\" "
   ]
  },
  {
   "cell_type": "markdown",
   "id": "bb72cf93",
   "metadata": {},
   "source": [
    "**Q1) Are mango included in the list?**\n",
    "1. Yes mango is included in the list.\n"
   ]
  },
  {
   "cell_type": "code",
   "execution_count": 71,
   "id": "85d3b4b2",
   "metadata": {},
   "outputs": [
    {
     "name": "stdout",
     "output_type": "stream",
     "text": [
      "a e\n",
      "b a\n",
      "p e\n",
      "j t\n",
      "p h\n",
      "d n\n",
      "w n\n",
      "m o\n",
      "s y\n",
      "p t\n"
     ]
    }
   ],
   "source": [
    "# Q2) Use for loop to print starting and ending letters:\n",
    "\n",
    "fruits = [\"apple\", \"banana\", \"pineapple\", \"jackfruit\",\n",
    "        \"peach\", \"durian\", \"watermelon\", \"mango\",\n",
    "        \"strawberry\", \"passionfruit\"]\n",
    "\n",
    "for fruit in fruits:\n",
    "    print(fruit[0], fruit[-1])\n",
    "    "
   ]
  },
  {
   "cell_type": "code",
   "execution_count": 93,
   "id": "e8ca00ff",
   "metadata": {},
   "outputs": [
    {
     "name": "stdout",
     "output_type": "stream",
     "text": [
      "PINEAPPLE\n",
      "PEACH\n",
      "PASSIONFRUIT\n"
     ]
    }
   ],
   "source": [
    "# Q3) Print only 'p' fruits in UPPERCASE:\n",
    "\n",
    "fruits = [\"apple\", \"banana\", \"pineapple\", \"jackfruit\",\n",
    "        \"peach\", \"durian\", \"watermelon\", \"mango\",\n",
    "        \"strawberry\", \"passionfruit\"]\n",
    "\n",
    "for fruit in fruits:\n",
    "    if fruit[0] == \"p\":\n",
    "        print(f\"{fruit.upper()}\") \n",
    "    "
   ]
  },
  {
   "cell_type": "code",
   "execution_count": 84,
   "id": "8ba46d6a",
   "metadata": {},
   "outputs": [
    {
     "data": {
      "text/plain": [
       "['apple',\n",
       " 'banana',\n",
       " 'pineapple',\n",
       " 'jackfruit',\n",
       " 'peach',\n",
       " 'durian',\n",
       " 'watermelon',\n",
       " 'mango',\n",
       " 'strawberry',\n",
       " 'passionfruit',\n",
       " ['dragon fruit', 'apricots', 'oranges']]"
      ]
     },
     "execution_count": 84,
     "metadata": {},
     "output_type": "execute_result"
    }
   ],
   "source": [
    "# Q4i) How will you append them?\n",
    "fruits = [\"apple\", \"banana\", \"pineapple\", \"jackfruit\",\n",
    "        \"peach\", \"durian\", \"watermelon\", \"mango\",\n",
    "        \"strawberry\", \"passionfruit\"] \n",
    "\n",
    "new_fruits = [\"dragon fruit\", \"apricots\", \"oranges\"]\n",
    "\n",
    "fruits.append(new_fruits)\n",
    "fruits\n"
   ]
  },
  {
   "cell_type": "code",
   "execution_count": 44,
   "id": "cf51c43b",
   "metadata": {},
   "outputs": [
    {
     "data": {
      "text/plain": [
       "['dragon fruit',\n",
       " 'apricots',\n",
       " 'oranges',\n",
       " 'apple',\n",
       " 'banana',\n",
       " 'pineapple',\n",
       " 'jackfruit',\n",
       " 'peach',\n",
       " 'durian',\n",
       " 'watermelon',\n",
       " 'mango',\n",
       " 'strawberry',\n",
       " 'passionfruit']"
      ]
     },
     "execution_count": 44,
     "metadata": {},
     "output_type": "execute_result"
    }
   ],
   "source": [
    "# Q4ii) How will you prepend them?\n",
    "\n",
    "fruits = [\"apple\", \"banana\", \"pineapple\", \"jackfruit\",\n",
    "        \"peach\", \"durian\", \"watermelon\", \"mango\",\n",
    "        \"strawberry\", \"passionfruit\"] \n",
    "\n",
    "new_fruits = [\"dragon fruit\", \"apricots\", \"oranges\"]\n",
    "\n",
    "NEW_fruits = new_fruits + fruits\n",
    "\n",
    "NEW_fruits"
   ]
  },
  {
   "cell_type": "code",
   "execution_count": 94,
   "id": "f653fe0e",
   "metadata": {},
   "outputs": [
    {
     "data": {
      "text/plain": [
       "['apple',\n",
       " 'banana',\n",
       " 'pineapple',\n",
       " 'jackfruit',\n",
       " 'peach',\n",
       " 'dragon fruit',\n",
       " 'apricots',\n",
       " 'oranges',\n",
       " 'durian',\n",
       " 'watermelon',\n",
       " 'mango',\n",
       " 'strawberry',\n",
       " 'passionfruit']"
      ]
     },
     "execution_count": 94,
     "metadata": {},
     "output_type": "execute_result"
    }
   ],
   "source": [
    "# Q4iii) How will you insert them in the middle?\n",
    "\n",
    "# total number of fruits = 10 \n",
    "\n",
    "fruits = [\"apple\", \"banana\", \"pineapple\", \"jackfruit\",\n",
    "        \"peach\"] \n",
    "\n",
    "fruits += [\"dragon fruit\", \"apricots\", \"oranges\", \"durian\", \"watermelon\", \"mango\",\n",
    "        \"strawberry\", \"passionfruit\"]\n",
    "\n",
    "fruits\n"
   ]
  },
  {
   "cell_type": "code",
   "execution_count": 130,
   "id": "61dd41de",
   "metadata": {},
   "outputs": [
    {
     "name": "stdout",
     "output_type": "stream",
     "text": [
      "pineapple\n",
      "jackfruit\n",
      "watermelon\n",
      "strawberry\n",
      "passionfruit\n"
     ]
    }
   ],
   "source": [
    "# Q5) Extract only fruits longer than 8 characters:\n",
    "\n",
    "fruits = [\"apple\", \"banana\", \"pineapple\", \"jackfruit\",\n",
    "        \"peach\", \"durian\", \"watermelon\", \"mango\",\n",
    "        \"strawberry\", \"passionfruit\"] \n",
    "\n",
    "for fruit in fruits:\n",
    "    if len(fruit) > 8:\n",
    "        print(fruit)\n"
   ]
  },
  {
   "cell_type": "markdown",
   "id": "390af87f",
   "metadata": {},
   "source": [
    "## Exercise 3 :  Ciao Fibonacci"
   ]
  },
  {
   "cell_type": "code",
   "execution_count": 141,
   "id": "9ea8e334",
   "metadata": {},
   "outputs": [
    {
     "data": {
      "text/plain": [
       "[0, 1, 1, 2, 3, 5, 8, 13, 21, 34, 55, 89, 144, 233, 377]"
      ]
     },
     "execution_count": 141,
     "metadata": {},
     "output_type": "execute_result"
    }
   ],
   "source": [
    "fibonnaci=[0, 1]\n",
    "for i in range(2, 15):\n",
    "    new_fibonnaci = fibonnaci[i-1] + fibonnaci[i-2]\n",
    "    fibonnaci.append(new_fibonnaci)\n",
    "\n",
    "fibonnaci\n"
   ]
  },
  {
   "cell_type": "markdown",
   "id": "fc2a6a60",
   "metadata": {},
   "source": [
    "## Exercise 4 :  A function for Fibonacci"
   ]
  },
  {
   "cell_type": "code",
   "execution_count": 156,
   "id": "2915ef09",
   "metadata": {},
   "outputs": [
    {
     "data": {
      "text/plain": [
       "[0, 1, 1, 2, 3, 5, 8, 13, 21, 34]"
      ]
     },
     "execution_count": 156,
     "metadata": {},
     "output_type": "execute_result"
    }
   ],
   "source": [
    "def fibonacci(n):\n",
    "    if n <= 0:\n",
    "        return 'error'\n",
    "    elif n == 1:\n",
    "        return [0]\n",
    "    elif n >= 2:\n",
    "        fibonnaci_list=[0, 1]\n",
    "        for x in range(2, n):\n",
    "            new_fibonnaci = fibonnaci_list[x-1] + fibonnaci_list[x-2]\n",
    "            fibonnaci_list.append(new_fibonnaci)\n",
    "        return fibonnaci_list\n",
    "\n",
    "fibonacci(10)"
   ]
  },
  {
   "cell_type": "code",
   "execution_count": 158,
   "id": "ae52d237",
   "metadata": {},
   "outputs": [
    {
     "data": {
      "text/plain": [
       "[0, 1, 1, 2]"
      ]
     },
     "execution_count": 158,
     "metadata": {},
     "output_type": "execute_result"
    }
   ],
   "source": [
    "fibonacci(4)"
   ]
  },
  {
   "cell_type": "markdown",
   "id": "fb307264",
   "metadata": {},
   "source": [
    "## Exercise 5 :  max_info() without NumPy"
   ]
  },
  {
   "cell_type": "code",
   "execution_count": 160,
   "id": "dcd44378",
   "metadata": {},
   "outputs": [
    {
     "data": {
      "text/plain": [
       "(83, 2)"
      ]
     },
     "execution_count": 160,
     "metadata": {},
     "output_type": "execute_result"
    }
   ],
   "source": [
    "#create function --> def max_info(numbers)\n",
    "#accepts lists \n",
    "# --> numbers = [40, 27, 83, 44, 74, 51, 76, 77, 10, 49]\n",
    "# --> numbers += []\n",
    "#returns max value without using max()\n",
    "# --> \n",
    "#index of max value\n",
    "\n",
    "numbers = [40, 27, 83, 44, 74, 51, 76, 77, 10, 49]\n",
    "\n",
    "def max_info(numbers):\n",
    "    max_number = numbers[0]\n",
    "    max_index = 0\n",
    "    index = []\n",
    "    for integers in range(0, len(numbers)):\n",
    "        index += [integers]\n",
    "    for position in index[1:]:\n",
    "        current_number = numbers[position]\n",
    "        current_index = position\n",
    "        if current_number > max_number:\n",
    "            max_number = current_number\n",
    "            max_index = current_index\n",
    "        else: continue \n",
    "    return max_number, max_index\n",
    "            \n",
    "max_info(numbers)"
   ]
  },
  {
   "cell_type": "code",
   "execution_count": 162,
   "id": "3fa9a312",
   "metadata": {},
   "outputs": [
    {
     "data": {
      "text/plain": [
       "(83, 2)"
      ]
     },
     "execution_count": 162,
     "metadata": {},
     "output_type": "execute_result"
    }
   ],
   "source": [
    "numbers = [40, 27, 83, 44, 74, 51, 76, 77, 10, 49]\n",
    "\n",
    "def max_info(numbers):\n",
    "    my_max = numbers[2]\n",
    "    my_max_index = 2\n",
    "    index = []\n",
    "    for integers in range(0, len(numbers)):\n",
    "        index += [integers]\n",
    "    for position in index[1:]:\n",
    "        current_number = numbers[position]\n",
    "        current_index = position\n",
    "        if current_number > my_max:\n",
    "            my_max = current_number\n",
    "            my_max_index = current_index\n",
    "        else: continue\n",
    "    return my_max, my_max_index\n",
    "\n",
    "max_info(numbers)"
   ]
  },
  {
   "cell_type": "markdown",
   "id": "7917868e",
   "metadata": {},
   "source": [
    "## Exercise 6 :  Take count"
   ]
  },
  {
   "cell_type": "code",
   "execution_count": 175,
   "id": "69fc4350",
   "metadata": {},
   "outputs": [
    {
     "name": "stdout",
     "output_type": "stream",
     "text": [
      "A -> 247, T -> 254, C -> 250, G -> 249\n"
     ]
    }
   ],
   "source": [
    "# Split the DNA into a list of A, C, G and Ts.\n",
    "\n",
    "DNA = \"AGGCAAGAAGCTAGAATTCTGGCCTGAGTATCTCAGTACAGGCGCAGTCGAATCTTCCGGAATCACATTGCTCGCGCTTAAACCCGCTCTAAACCTTTGAGTAATTCGACGACATTGGGTTCCCTCCGACGCTGTCTGACAACTCTTTAAGATCCTTGGCACGATGTCGATAGACATTGTCCCTGATGACGCCTCACAAGGTAACCTGGCTCTAGTAGGGTGGTCTTTGCTGCGGAACTTACCACCTGGTGGATCCAAGCACCAGAGGAGTTCGAAGAGGCTGGGGTACCCCCTATTTAGGAAGGGCGAGACTACGGTCACAAATTCCAAATGGCTTCCCTCGATTCATGACGCCAGAATGCCTGGCTGTGCCAATTTGTCGCCTTGCGTCGTTCTGTCAATCTTTACTCGTGTCGTGTTGTGATAAATGACAAACCCTGCACAACGTAGGGCTCACACAAGGGAATCTAGAGTATCCGATACAGGGAGCTTTAGCTTCCGTCCCTTATAGCCTGCCATATTCTTGCGGTAGCACGAGCCTCAGATCTTCTCACTCCGGAAATGGGAGCTTCGACGGTCAAGGGCTAAGACGTCTTCGGGAGAAATACCTAGGCGATGACCCTGAGTGGTTTTCCGCGTATAACTCATCCTGGTTGCAAATGATTACCGTTATAGCCTGGGGATATGCCTCAATTCCGAACCCAGGAGCATCACTCGAGCAATAGCGGTAAAGGAGGCTATTAGCAAAATTGTCACGATAAGCGCCGTTGTAGTGAAATTAAGATACATACATCGTTTAGCACATCACTCTCACGGCGTCTAGAAGCTGATCTTCATATGCTGACTCAGAAGGCTCGGATAATAGAGGACGAAGGTAGTTTACTCATCGCTGCCCCGACTATTACGTGTGCATGATAAAGTCTGACCCTGACGTTCCCAAGCCGAGGCAGAGGGGTTTTACGCTGAATGTCCGCTCTCTGTCGGATGATTTCGGAAGCTG\"\n",
    "bases = list(DNA)\n",
    "A_list = bases.count(\"A\")\n",
    "T_list = bases.count(\"T\")\n",
    "C_list = bases.count(\"C\")\n",
    "G_list = bases.count(\"G\")\n",
    "print(f\"A -> {A_list}, T -> {T_list}, C -> {C_list}, G -> {G_list}\")\n"
   ]
  },
  {
   "cell_type": "code",
   "execution_count": 204,
   "id": "1b140182",
   "metadata": {},
   "outputs": [],
   "source": [
    "DNA = \"AGGCAAGAAGCTAGAATTCTGGCCTGAGTATCTCAGTACAGGCGCAGTCGAATCTTCCGGAATCACATTGCTCGCGCTTAAACCCGCTCTAAACCTTTGAGTAATTCGACGACATTGGGTTCCCTCCGACGCTGTCTGACAACTCTTTAAGATCCTTGGCACGATGTCGATAGACATTGTCCCTGATGACGCCTCACAAGGTAACCTGGCTCTAGTAGGGTGGTCTTTGCTGCGGAACTTACCACCTGGTGGATCCAAGCACCAGAGGAGTTCGAAGAGGCTGGGGTACCCCCTATTTAGGAAGGGCGAGACTACGGTCACAAATTCCAAATGGCTTCCCTCGATTCATGACGCCAGAATGCCTGGCTGTGCCAATTTGTCGCCTTGCGTCGTTCTGTCAATCTTTACTCGTGTCGTGTTGTGATAAATGACAAACCCTGCACAACGTAGGGCTCACACAAGGGAATCTAGAGTATCCGATACAGGGAGCTTTAGCTTCCGTCCCTTATAGCCTGCCATATTCTTGCGGTAGCACGAGCCTCAGATCTTCTCACTCCGGAAATGGGAGCTTCGACGGTCAAGGGCTAAGACGTCTTCGGGAGAAATACCTAGGCGATGACCCTGAGTGGTTTTCCGCGTATAACTCATCCTGGTTGCAAATGATTACCGTTATAGCCTGGGGATATGCCTCAATTCCGAACCCAGGAGCATCACTCGAGCAATAGCGGTAAAGGAGGCTATTAGCAAAATTGTCACGATAAGCGCCGTTGTAGTGAAATTAAGATACATACATCGTTTAGCACATCACTCTCACGGCGTCTAGAAGCTGATCTTCATATGCTGACTCAGAAGGCTCGGATAATAGAGGACGAAGGTAGTTTACTCATCGCTGCCCCGACTATTACGTGTGCATGATAAAGTCTGACCCTGACGTTCCCAAGCCGAGGCAGAGGGGTTTTACGCTGAATGTCCGCTCTCTGTCGGATGATTTCGGAAGCTG\"\n",
    "def bases(DNA):\n",
    "     for bases in DNA:\n",
    "        if bases == \"T\":\n",
    "            print('T_list is bases.count(\"T\")')\n",
    "        else: break \n",
    "        return 'bases(DNA)'\n",
    "    \n",
    "bases(DNA)"
   ]
  },
  {
   "cell_type": "code",
   "execution_count": null,
   "id": "e48266d5",
   "metadata": {},
   "outputs": [],
   "source": []
  },
  {
   "cell_type": "code",
   "execution_count": null,
   "id": "1e4de5e1",
   "metadata": {},
   "outputs": [],
   "source": []
  }
 ],
 "metadata": {
  "kernelspec": {
   "display_name": "Python 3 (ipykernel)",
   "language": "python",
   "name": "python3"
  },
  "language_info": {
   "codemirror_mode": {
    "name": "ipython",
    "version": 3
   },
   "file_extension": ".py",
   "mimetype": "text/x-python",
   "name": "python",
   "nbconvert_exporter": "python",
   "pygments_lexer": "ipython3",
   "version": "3.10.8"
  },
  "toc": {
   "base_numbering": 1,
   "nav_menu": {},
   "number_sections": true,
   "sideBar": true,
   "skip_h1_title": false,
   "title_cell": "Table of Contents",
   "title_sidebar": "Contents",
   "toc_cell": false,
   "toc_position": {},
   "toc_section_display": true,
   "toc_window_display": false
  },
  "varInspector": {
   "cols": {
    "lenName": 16,
    "lenType": 16,
    "lenVar": 40
   },
   "kernels_config": {
    "python": {
     "delete_cmd_postfix": "",
     "delete_cmd_prefix": "del ",
     "library": "var_list.py",
     "varRefreshCmd": "print(var_dic_list())"
    },
    "r": {
     "delete_cmd_postfix": ") ",
     "delete_cmd_prefix": "rm(",
     "library": "var_list.r",
     "varRefreshCmd": "cat(var_dic_list()) "
    }
   },
   "types_to_exclude": [
    "module",
    "function",
    "builtin_function_or_method",
    "instance",
    "_Feature"
   ],
   "window_display": false
  },
  "vscode": {
   "interpreter": {
    "hash": "31f2aee4e71d21fbe5cf8b01ff0e069b9275f58929596ceb00d14d90e3e16cd6"
   }
  }
 },
 "nbformat": 4,
 "nbformat_minor": 5
}
