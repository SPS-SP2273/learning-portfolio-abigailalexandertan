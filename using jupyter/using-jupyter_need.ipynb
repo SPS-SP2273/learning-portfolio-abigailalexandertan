{
 "cells": [
  {
   "cell_type": "markdown",
   "id": "99ed2f2e",
   "metadata": {},
   "source": [
    "# Using Jupyter (Need)"
   ]
  },
  {
   "cell_type": "code",
   "execution_count": 7,
   "id": "c05db9cf",
   "metadata": {},
   "outputs": [
    {
     "name": "stdout",
     "output_type": "stream",
     "text": [
      "6\n"
     ]
    }
   ],
   "source": [
    "a = 4\n",
    "b = 2\n",
    "c = a + b\n",
    "print(c)"
   ]
  },
  {
   "cell_type": "markdown",
   "id": "94b716d6",
   "metadata": {},
   "source": [
    "#\n",
    "##\n",
    "###\n",
    "#####\n",
    "The ships *hung in the sky* in much the same way that **bricks don’t.** <sup>1</sup><sub>QUOTE</sub>\n",
    "\n",
    "'print('Hello World')'\n",
    "`print('Hello World')`\n",
    "`print('Hello World')`\n",
    "\n",
    "```python\n",
    "print('Hello World!')\n",
    "```\n",
    "\n",
    "[SP2273 Website](https://sps.nus.edu.sg/sp2273)"
   ]
  },
  {
   "cell_type": "markdown",
   "id": "e8035a30",
   "metadata": {},
   "source": [
    "![](https://nus.edu.sg/images/default-source/base/logo.png)\n",
    "\n",
    "![](evil-scratcher.png) this works cuz the name must have a hyphen. dont use space. "
   ]
  },
  {
   "cell_type": "markdown",
   "id": "a1c1ebf2",
   "metadata": {},
   "source": [
    "| A    |  B   |    C |\n",
    "| :--- | :--: | ---: |\n",
    "| a1   |  b1  |   c1 |\n",
    "| a2   |  b2  |   c2 |\n",
    "| a3   |  b3  |   c3 |"
   ]
  },
  {
   "cell_type": "markdown",
   "id": "a7e18705",
   "metadata": {},
   "source": [
    "1. Abi\n",
    "1. Ebi\n",
    "1. Abby"
   ]
  },
  {
   "cell_type": "markdown",
   "id": "ccb11600",
   "metadata": {},
   "source": [
    "- Abi\n",
    "- Ebi\n",
    "- Abby"
   ]
  },
  {
   "cell_type": "markdown",
   "id": "fb51a40d",
   "metadata": {},
   "source": [
    "1. Abi\n",
    "    1. abi\n",
    "    1. abi\n",
    "1. Ebi\n",
    "    1. ebi\n",
    "    1. ebi\n",
    "    "
   ]
  },
  {
   "cell_type": "markdown",
   "id": "0809a800",
   "metadata": {},
   "source": [
    "1. Abi\n",
    "    - ebi\n",
    "    - abby"
   ]
  },
  {
   "cell_type": "markdown",
   "id": "c53fd5d9",
   "metadata": {},
   "source": [
    "$$\n",
    "x = \\dfrac{-b \\pm \\sqrt{b^2-4ac}}{2a}\n",
    "$$"
   ]
  },
  {
   "cell_type": "markdown",
   "id": "dd180679",
   "metadata": {},
   "source": [
    "# Exercise 1: Put it in Markdown\n",
    "Use a Markdown cell to reproduce the small introduction to quadratic equations shown in the box below.\n",
    "\n",
    "**Quadratic Equations**\n",
    "\n",
    "![](https://upload.wikimedia.org/wikipedia/commons/thumb/f/f8/Polynomialdeg2.svg/1920px-Polynomialdeg2.svg.png)\n",
    "*(Image from the [Wikipedia page on Quadratic equations](https://en.wikipedia.org/wiki/Quadratic_equation))*\n",
    "\n",
    "**Introduction**\n",
    "\n",
    "The general form of the quadratic equation is:\n",
    "\n",
    "$$ax^{2}+bx+c=0$$\n",
    "\n",
    "**Solutions** Provided $a \\ne 0$, we can use an elementary algebraic method called [completing the square](https://en.wikipedia.org/wiki/Completing_the_square) to show that a quadratic equation has the following solution:\n",
    "\n",
    "$$x=\\dfrac{-b \\pm \\sqrt{b^2-4ac}}{2a}$$\n",
    "\n",
    "**Discriminant**\n",
    "The quantity $\\Delta=b^2-4ac$ is called the **discriminant** of the equation and decides the nature of its solutions. The table below shows the various possibilities. \n",
    "\n",
    "\n",
    "| Discriminant | Roots |\n",
    "| :--- | ---: |\n",
    "| $$\\Delta=b^2-4ac=0$$   |  A single solution of $-b/(2a)$| \n",
    "| $\\Delta=b^2-4ac \\gt 0$   |  Two distinct solutions\n",
    "  |\n",
    "| $\\Delta=b^2-4ac \\lt 0$   |  No real solutions; both are complex.\n",
    "  |\n",
    "\n"
   ]
  },
  {
   "cell_type": "markdown",
   "id": "6f2564f0",
   "metadata": {},
   "source": [
    "# Exercise 2: In your own words\n",
    "\n",
    "Use a Markdown cell to answer the following.\n",
    "\n",
    "1. What is a **repository**?\n",
    "    - A repository is a folder on the GitHub server that is created to hold your Learning portfolio. \n",
    "    \n",
    "    \n",
    "2. Git keeps track of **the changes made to code** in the files in our repository. \n",
    "\n",
    "\n",
    "3. What is a **commit**?\n",
    "    - A commit specifies what changes in the repository to track.\n",
    "    \n",
    "    \n",
    "4. What is a **push**?\n",
    "    - Pushing is to share the commits/changes made from your device onto Github and anyone else sharing the repository. \n",
    "    \n",
    "    \n",
    "5. What is the difference between **GitHub** and **GitHub Desktop**?\n",
    "    - GitHub is the online service used to develop and maintain code. GitHub desktop is an application that allows users to interact better with GitHub through a friendly grahical user interface (GUI). \n",
    "    \n",
    "    \n",
    "6. Is there an 'opposite' to a **push**?\n",
    "    - Yes, there is git fetch to retrieve changes made to a repository. "
   ]
  },
  {
   "cell_type": "code",
   "execution_count": null,
   "id": "63fcc174",
   "metadata": {},
   "outputs": [],
   "source": []
  }
 ],
 "metadata": {
  "kernelspec": {
   "display_name": "Python 3 (ipykernel)",
   "language": "python",
   "name": "python3"
  },
  "language_info": {
   "codemirror_mode": {
    "name": "ipython",
    "version": 3
   },
   "file_extension": ".py",
   "mimetype": "text/x-python",
   "name": "python",
   "nbconvert_exporter": "python",
   "pygments_lexer": "ipython3",
   "version": "3.10.8"
  }
 },
 "nbformat": 4,
 "nbformat_minor": 5
}
